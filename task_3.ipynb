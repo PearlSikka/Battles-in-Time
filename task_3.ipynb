{
  "cells": [
    {
      "cell_type": "markdown",
      "metadata": {
        "id": "view-in-github",
        "colab_type": "text"
      },
      "source": [
        "<a href=\"https://colab.research.google.com/github/PearlSikka/Battles-in-Time/blob/main/task_3.ipynb\" target=\"_parent\"><img src=\"https://colab.research.google.com/assets/colab-badge.svg\" alt=\"Open In Colab\"/></a>"
      ]
    },
    {
      "cell_type": "markdown",
      "metadata": {
        "id": "Kbw6IETBWMFG"
      },
      "source": [
        "3. Implement a convolutional neural network to predict the ID of any card using images\n",
        "from train-XXX and test-XXX. As there are not many examples, you will need to think about\n",
        "how to prevent overfitting. Test your solution on examples from both train-XXX and test-\n",
        "XXX images. If you like, you may choose to use transfer-learning. Demonstrate the\n",
        "performance of your predictor using appropriate train-validate-test splits, and giving\n",
        "qualitative and quantitative results of your validation."
      ]
    },
    {
      "cell_type": "markdown",
      "source": [
        "CODE HAS BEEN TESTED ON GOOGLE COLAB ON PYTHON VERSION 3.7.12"
      ],
      "metadata": {
        "id": "0nxJv_AtyR9B"
      }
    },
    {
      "cell_type": "code",
      "execution_count": 2,
      "metadata": {
        "id": "1_yQXOteXsp8",
        "colab": {
          "base_uri": "https://localhost:8080/"
        },
        "outputId": "f354464b-2207-4e08-955c-328412c74934"
      },
      "outputs": [
        {
          "output_type": "stream",
          "name": "stdout",
          "text": [
            "Mounted at /content/drive\n"
          ]
        }
      ],
      "source": [
        "from google.colab import drive\n",
        "drive.mount('/content/drive')"
      ]
    },
    {
      "cell_type": "markdown",
      "source": [
        "**Importing necessary libraries**"
      ],
      "metadata": {
        "id": "tzmH-DSQbhH5"
      }
    },
    {
      "cell_type": "code",
      "execution_count": 3,
      "metadata": {
        "id": "LG4BBrdr1XmX"
      },
      "outputs": [],
      "source": [
        "import os                                                                         #for OS operations\n",
        "import numpy as np                                                                #for numerical arrays\n",
        "import glob                                                                       #for reading files \n",
        "import pandas as pd\n",
        "\n",
        "import matplotlib.pyplot as plt                                                   #for plotting images\n",
        "import matplotlib.image as mpimg\n",
        "\n",
        "import cv2                                                                        #opencv                                                             \n",
        "\n",
        "import keras                                                                      #keras\n",
        "from keras.models import Sequential                                               #for sequential model\n",
        "\n",
        "from keras.layers import Dense, Dropout, Flatten                                  #for different layers in keras model\n",
        "from keras.layers import Conv2D, MaxPooling2D\n",
        "import random as rng                                                \n",
        "rng.seed(12345)"
      ]
    },
    {
      "cell_type": "code",
      "execution_count": 4,
      "metadata": {
        "id": "cQ19qohfzv8v"
      },
      "outputs": [],
      "source": [
        "data_dir='drive/My Drive/Image_Analysis/DATA/'                                    #data directory path\n",
        "results_dir='drive/My Drive/Image_Analysis/RESULTS_3/'                              #results directory path"
      ]
    },
    {
      "cell_type": "markdown",
      "source": [
        "**Training set**: Loading train set card images from results_dir with resolution of (256,256) in data_img and corresponding card labels in labels list. Since train_001 IDs are not known, they are not used in training."
      ],
      "metadata": {
        "id": "SUBo51rfcPkQ"
      }
    },
    {
      "cell_type": "code",
      "source": [
        "data_img=[]\n",
        "labels=[]\n",
        "resolution = (256,256) \n",
        "\n",
        "im= cv2.imread(results_dir+'train-002_1.jpg')\n",
        "im= cv2.cvtColor(im,cv2.COLOR_BGR2RGB)\n",
        "im= cv2.resize(im,resolution)\n",
        "data_img.append(im)\n",
        "labels.append('048')\n",
        "im= cv2.imread(results_dir+'train-002_2.jpg')\n",
        "im= cv2.cvtColor(im,cv2.COLOR_BGR2RGB)\n",
        "im=cv2.resize(im,resolution)\n",
        "data_img.append(im)\n",
        "labels.append('033')\n",
        "im= cv2.imread(results_dir+'train-002_3.jpg')\n",
        "im= cv2.cvtColor(im,cv2.COLOR_BGR2RGB)\n",
        "im=cv2.resize(im,resolution)\n",
        "data_img.append(im)\n",
        "labels.append('026')\n",
        "im= cv2.imread(results_dir+'train-002_4.jpg')\n",
        "im= cv2.cvtColor(im,cv2.COLOR_BGR2RGB)\n",
        "im=cv2.resize(im,resolution)\n",
        "data_img.append(im)\n",
        "labels.append('036')\n",
        "im= cv2.imread(results_dir+'train-002_5.jpg')\n",
        "im= cv2.cvtColor(im,cv2.COLOR_BGR2RGB)\n",
        "im=cv2.resize(im,resolution)\n",
        "data_img.append(im)\n",
        "labels.append('063')\n",
        "im= cv2.imread(results_dir+'train-002_6.jpg')\n",
        "im= cv2.cvtColor(im,cv2.COLOR_BGR2RGB)\n",
        "im=cv2.resize(im,resolution)\n",
        "data_img.append(im)\n",
        "labels.append('054')\n",
        "im= cv2.imread(results_dir+'train-002_7.jpg')\n",
        "im= cv2.cvtColor(im,cv2.COLOR_BGR2RGB)\n",
        "im=cv2.resize(im,resolution)\n",
        "data_img.append(im)\n",
        "labels.append('033')\n",
        "im= cv2.imread(results_dir+'train-002_8.jpg')\n",
        "im= cv2.cvtColor(im,cv2.COLOR_BGR2RGB)\n",
        "im=cv2.resize(im,resolution)\n",
        "data_img.append(im)\n",
        "labels.append('210')\n",
        "im= cv2.imread(results_dir+'train-002_9.jpg')\n",
        "im= cv2.cvtColor(im,cv2.COLOR_BGR2RGB)\n",
        "im=cv2.resize(im,resolution)\n",
        "data_img.append(im)\n",
        "labels.append('052')\n",
        "im= cv2.imread(results_dir+'train-002_10.jpg')\n",
        "im= cv2.cvtColor(im,cv2.COLOR_BGR2RGB)\n",
        "im=cv2.resize(im,resolution)\n",
        "data_img.append(im)\n",
        "labels.append('033')\n",
        "im= cv2.imread(results_dir+'train-002_11.jpg')\n",
        "im= cv2.cvtColor(im,cv2.COLOR_BGR2RGB)\n",
        "im=cv2.resize(im,resolution)\n",
        "data_img.append(im)\n",
        "labels.append('047')\n",
        "im= cv2.imread(results_dir+'train-002_12.jpg')\n",
        "im= cv2.cvtColor(im,cv2.COLOR_BGR2RGB)\n",
        "im=cv2.resize(im,resolution)\n",
        "data_img.append(im)\n",
        "labels.append('031')\n",
        "im= cv2.imread(results_dir+'train-002_13.jpg')\n",
        "im= cv2.cvtColor(im,cv2.COLOR_BGR2RGB)\n",
        "im=cv2.resize(im,resolution)\n",
        "data_img.append(im)\n",
        "labels.append('018')\n",
        "im= cv2.imread(results_dir+'train-002_14.jpg')\n",
        "im= cv2.cvtColor(im,cv2.COLOR_BGR2RGB)\n",
        "im=cv2.resize(im,resolution)\n",
        "data_img.append(im)\n",
        "labels.append('040')\n",
        "im= cv2.imread(results_dir+'train-002_15.jpg')\n",
        "im= cv2.cvtColor(im,cv2.COLOR_BGR2RGB)\n",
        "im=cv2.resize(im,resolution)\n",
        "data_img.append(im)\n",
        "labels.append('033')\n",
        "im= cv2.imread(results_dir+'train-002_16.jpg')\n",
        "im= cv2.cvtColor(im,cv2.COLOR_BGR2RGB)\n",
        "im=cv2.resize(im,resolution)\n",
        "data_img.append(im)\n",
        "labels.append('005')\n",
        "im= cv2.imread(results_dir+'train-002_17.jpg')\n",
        "im= cv2.cvtColor(im,cv2.COLOR_BGR2RGB)\n",
        "im=cv2.resize(im,resolution)\n",
        "data_img.append(im)\n",
        "labels.append('052')\n",
        "im= cv2.imread(results_dir+'train-002_18.jpg')\n",
        "im= cv2.cvtColor(im,cv2.COLOR_BGR2RGB)\n",
        "im=cv2.resize(im,resolution)\n",
        "data_img.append(im)\n",
        "labels.append('067')\n",
        "im= cv2.imread(results_dir+'train-003_1.jpg')\n",
        "im= cv2.cvtColor(im,cv2.COLOR_BGR2RGB)\n",
        "im=cv2.resize(im,resolution)\n",
        "data_img.append(im)\n",
        "labels.append('083')\n",
        "im= cv2.imread(results_dir+'train-003_2.jpg')\n",
        "im= cv2.cvtColor(im,cv2.COLOR_BGR2RGB)\n",
        "im=cv2.resize(im,resolution)\n",
        "data_img.append(im)\n",
        "labels.append('063')\n",
        "im= cv2.imread(results_dir+'train-003_3.jpg')\n",
        "im= cv2.cvtColor(im,cv2.COLOR_BGR2RGB)\n",
        "im=cv2.resize(im,resolution)\n",
        "data_img.append(im)\n",
        "labels.append('033')\n",
        "im= cv2.imread(results_dir+'train-003_4.jpg')\n",
        "im= cv2.cvtColor(im,cv2.COLOR_BGR2RGB)\n",
        "im=cv2.resize(im,resolution)\n",
        "data_img.append(im)\n",
        "labels.append('068')\n",
        "im= cv2.imread(results_dir+'train-003_5.jpg')\n",
        "im= cv2.cvtColor(im,cv2.COLOR_BGR2RGB)\n",
        "im=cv2.resize(im,resolution)\n",
        "data_img.append(im)\n",
        "labels.append('025')\n",
        "im= cv2.imread(results_dir+'train-003_6.jpg')\n",
        "im= cv2.cvtColor(im,cv2.COLOR_BGR2RGB)\n",
        "im=cv2.resize(im,resolution)\n",
        "data_img.append(im)\n",
        "labels.append('068')\n",
        "im= cv2.imread(results_dir+'train-003_7.jpg')\n",
        "im= cv2.cvtColor(im,cv2.COLOR_BGR2RGB)\n",
        "im=cv2.resize(im,resolution)\n",
        "data_img.append(im)\n",
        "labels.append('033')\n",
        "im= cv2.imread(results_dir+'train-003_8.jpg')\n",
        "im= cv2.cvtColor(im,cv2.COLOR_BGR2RGB)\n",
        "im=cv2.resize(im,resolution)\n",
        "data_img.append(im)\n",
        "labels.append('076')\n",
        "im= cv2.imread(results_dir+'train-003_9.jpg')\n",
        "im= cv2.cvtColor(im,cv2.COLOR_BGR2RGB)\n",
        "im=cv2.resize(im,resolution)\n",
        "data_img.append(im)\n",
        "labels.append('057')\n",
        "im= cv2.imread(results_dir+'train-003_10.jpg')\n",
        "im= cv2.cvtColor(im,cv2.COLOR_BGR2RGB)\n",
        "im=cv2.resize(im,resolution)\n",
        "data_img.append(im)\n",
        "labels.append('054')\n",
        "im= cv2.imread(results_dir+'train-003_11.jpg')\n",
        "im= cv2.cvtColor(im,cv2.COLOR_BGR2RGB)\n",
        "im=cv2.resize(im,resolution)\n",
        "data_img.append(im)\n",
        "labels.append('066')\n",
        "im= cv2.imread(results_dir+'train-003_12.jpg')\n",
        "im= cv2.cvtColor(im,cv2.COLOR_BGR2RGB)\n",
        "im=cv2.resize(im,resolution)\n",
        "data_img.append(im)\n",
        "labels.append('060')\n",
        "im= cv2.imread(results_dir+'train-003_13.jpg')\n",
        "im= cv2.cvtColor(im,cv2.COLOR_BGR2RGB)\n",
        "im=cv2.resize(im,resolution)\n",
        "data_img.append(im)\n",
        "labels.append('017')\n",
        "im= cv2.imread(results_dir+'train-003_14.jpg')\n",
        "im= cv2.cvtColor(im,cv2.COLOR_BGR2RGB)\n",
        "im=cv2.resize(im,resolution)\n",
        "data_img.append(im)\n",
        "labels.append('089')\n",
        "im= cv2.imread(results_dir+'train-003_15.jpg')\n",
        "im= cv2.cvtColor(im,cv2.COLOR_BGR2RGB)\n",
        "im=cv2.resize(im,resolution)\n",
        "data_img.append(im)\n",
        "labels.append('054')\n",
        "im= cv2.imread(results_dir+'train-003_16.jpg')\n",
        "im= cv2.cvtColor(im,cv2.COLOR_BGR2RGB)\n",
        "im=cv2.resize(im,resolution)\n",
        "data_img.append(im)\n",
        "labels.append('057')\n",
        "im= cv2.imread(results_dir+'train-003_17.jpg')\n",
        "im= cv2.cvtColor(im,cv2.COLOR_BGR2RGB)\n",
        "im=cv2.resize(im,resolution)\n",
        "data_img.append(im)\n",
        "labels.append('057')\n",
        "im= cv2.imread(results_dir+'train-003_18.jpg')\n",
        "im= cv2.cvtColor(im,cv2.COLOR_BGR2RGB)\n",
        "im=cv2.resize(im,resolution)\n",
        "data_img.append(im)\n",
        "labels.append('073')\n",
        "im= cv2.imread(results_dir+'train-004_1.jpg')\n",
        "im= cv2.cvtColor(im,cv2.COLOR_BGR2RGB)\n",
        "im= cv2.resize(im,resolution)\n",
        "data_img.append(im)\n",
        "labels.append('056')\n",
        "im= cv2.imread(results_dir+'train-004_2.jpg')\n",
        "im= cv2.cvtColor(im,cv2.COLOR_BGR2RGB)\n",
        "im=cv2.resize(im,resolution)\n",
        "data_img.append(im)\n",
        "labels.append('062')\n",
        "im= cv2.imread(results_dir+'train-004_3.jpg')\n",
        "im= cv2.cvtColor(im,cv2.COLOR_BGR2RGB)\n",
        "im=cv2.resize(im,resolution)\n",
        "data_img.append(im)\n",
        "labels.append('001')\n",
        "im= cv2.imread(results_dir+'train-004_4.jpg')\n",
        "im= cv2.cvtColor(im,cv2.COLOR_BGR2RGB)\n",
        "im=cv2.resize(im,resolution)\n",
        "data_img.append(im)\n",
        "labels.append('089')\n",
        "im= cv2.imread(results_dir+'train-004_5.jpg')\n",
        "im= cv2.cvtColor(im,cv2.COLOR_BGR2RGB)\n",
        "im=cv2.resize(im,resolution)\n",
        "data_img.append(im)\n",
        "labels.append('001')\n",
        "im= cv2.imread(results_dir+'train-004_6.jpg')\n",
        "im= cv2.cvtColor(im,cv2.COLOR_BGR2RGB)\n",
        "im=cv2.resize(im,resolution)\n",
        "data_img.append(im)\n",
        "labels.append('069')\n",
        "im= cv2.imread(results_dir+'train-004_7.jpg')\n",
        "im= cv2.cvtColor(im,cv2.COLOR_BGR2RGB)\n",
        "im=cv2.resize(im,resolution)\n",
        "data_img.append(im)\n",
        "labels.append('011')\n",
        "im= cv2.imread(results_dir+'train-004_8.jpg')\n",
        "im= cv2.cvtColor(im,cv2.COLOR_BGR2RGB)\n",
        "im=cv2.resize(im,resolution)\n",
        "data_img.append(im)\n",
        "labels.append('063')\n",
        "im= cv2.imread(results_dir+'train-004_9.jpg')\n",
        "im= cv2.cvtColor(im,cv2.COLOR_BGR2RGB)\n",
        "im=cv2.resize(im,resolution)\n",
        "data_img.append(im)\n",
        "labels.append('015')\n",
        "im= cv2.imread(results_dir+'train-004_10.jpg')\n",
        "im= cv2.cvtColor(im,cv2.COLOR_BGR2RGB)\n",
        "im=cv2.resize(im,resolution)\n",
        "data_img.append(im)\n",
        "labels.append('059')\n",
        "im= cv2.imread(results_dir+'train-004_11.jpg')\n",
        "im= cv2.cvtColor(im,cv2.COLOR_BGR2RGB)\n",
        "im=cv2.resize(im,resolution)\n",
        "data_img.append(im)\n",
        "labels.append('015')\n",
        "im= cv2.imread(results_dir+'train-004_12.jpg')\n",
        "im= cv2.cvtColor(im,cv2.COLOR_BGR2RGB)\n",
        "im=cv2.resize(im,resolution)\n",
        "data_img.append(im)\n",
        "labels.append('096')\n",
        "im= cv2.imread(results_dir+'train-004_13.jpg')\n",
        "im= cv2.cvtColor(im,cv2.COLOR_BGR2RGB)\n",
        "im=cv2.resize(im,resolution)\n",
        "data_img.append(im)\n",
        "labels.append('004')\n",
        "im= cv2.imread(results_dir+'train-004_14.jpg')\n",
        "im= cv2.cvtColor(im,cv2.COLOR_BGR2RGB)\n",
        "im=cv2.resize(im,resolution)\n",
        "data_img.append(im)\n",
        "labels.append('044')\n",
        "im= cv2.imread(results_dir+'train-004_15.jpg') \n",
        "im= cv2.cvtColor(im,cv2.COLOR_BGR2RGB)\n",
        "im=cv2.resize(im,resolution)\n",
        "data_img.append(im)\n",
        "labels.append('065')\n",
        "im= cv2.imread(results_dir+'train-004_16.jpg')\n",
        "im= cv2.cvtColor(im,cv2.COLOR_BGR2RGB)\n",
        "im=cv2.resize(im,resolution)\n",
        "data_img.append(im)\n",
        "labels.append('065')\n",
        "im= cv2.imread(results_dir+'train-004_17.jpg')\n",
        "im= cv2.cvtColor(im,cv2.COLOR_BGR2RGB)\n",
        "im=cv2.resize(im,resolution)\n",
        "data_img.append(im)\n",
        "labels.append('056')\n",
        "im= cv2.imread(results_dir+'train-004_18.jpg')\n",
        "im= cv2.cvtColor(im,cv2.COLOR_BGR2RGB)\n",
        "im=cv2.resize(im,resolution)\n",
        "data_img.append(im)\n",
        "labels.append('036')\n",
        "im= cv2.imread(results_dir+'train-005_1.jpg')\n",
        "im= cv2.cvtColor(im,cv2.COLOR_BGR2RGB)\n",
        "im=cv2.resize(im,resolution)\n",
        "data_img.append(im)\n",
        "labels.append('068')\n",
        "im= cv2.imread(results_dir+'train-005_2.jpg')\n",
        "im= cv2.cvtColor(im,cv2.COLOR_BGR2RGB)\n",
        "im=cv2.resize(im,resolution)\n",
        "data_img.append(im)\n",
        "labels.append('083')\n",
        "im= cv2.imread(results_dir+'train-005_3.jpg')\n",
        "im= cv2.cvtColor(im,cv2.COLOR_BGR2RGB)\n",
        "im=cv2.resize(im,resolution)\n",
        "data_img.append(im)\n",
        "labels.append('025')\n",
        "im= cv2.imread(results_dir+'train-005_4.jpg')\n",
        "im= cv2.cvtColor(im,cv2.COLOR_BGR2RGB)\n",
        "im=cv2.resize(im,resolution)\n",
        "data_img.append(im)\n",
        "labels.append('033')\n",
        "im= cv2.imread(results_dir+'train-005_5.jpg')\n",
        "im= cv2.cvtColor(im,cv2.COLOR_BGR2RGB)\n",
        "im=cv2.resize(im,resolution)\n",
        "data_img.append(im)\n",
        "labels.append('063')\n",
        "im= cv2.imread(results_dir+'train-005_6.jpg')\n",
        "im= cv2.cvtColor(im,cv2.COLOR_BGR2RGB)\n",
        "im=cv2.resize(im,resolution)\n",
        "data_img.append(im)\n",
        "labels.append('060')\n",
        "im= cv2.imread(results_dir+'train-005_7.jpg')\n",
        "im= cv2.cvtColor(im,cv2.COLOR_BGR2RGB)\n",
        "im=cv2.resize(im,resolution)\n",
        "data_img.append(im)\n",
        "labels.append('033')\n",
        "im= cv2.imread(results_dir+'train-005_8.jpg')\n",
        "im= cv2.cvtColor(im,cv2.COLOR_BGR2RGB)\n",
        "im=cv2.resize(im,resolution)\n",
        "data_img.append(im)\n",
        "labels.append('066')\n",
        "im= cv2.imread(results_dir+'train-005_9.jpg')\n",
        "im= cv2.cvtColor(im,cv2.COLOR_BGR2RGB)\n",
        "im=cv2.resize(im,resolution)\n",
        "data_img.append(im)\n",
        "labels.append('054')\n",
        "im= cv2.imread(results_dir+'train-005_10.jpg')\n",
        "im= cv2.cvtColor(im,cv2.COLOR_BGR2RGB)\n",
        "im=cv2.resize(im,resolution)\n",
        "data_img.append(im)\n",
        "labels.append('057')\n",
        "im= cv2.imread(results_dir+'train-005_11.jpg')\n",
        "im= cv2.cvtColor(im,cv2.COLOR_BGR2RGB)\n",
        "im=cv2.resize(im,resolution)\n",
        "data_img.append(im)\n",
        "labels.append('076')\n",
        "im= cv2.imread(results_dir+'train-005_12.jpg')\n",
        "im= cv2.cvtColor(im,cv2.COLOR_BGR2RGB)\n",
        "im=cv2.resize(im,resolution)\n",
        "data_img.append(im)\n",
        "labels.append('060')\n",
        "im= cv2.imread(results_dir+'train-005_13.jpg')\n",
        "im= cv2.cvtColor(im,cv2.COLOR_BGR2RGB)\n",
        "im=cv2.resize(im,resolution)\n",
        "data_img.append(im)\n",
        "labels.append('057')\n",
        "im= cv2.imread(results_dir+'train-005_14.jpg')\n",
        "im= cv2.cvtColor(im,cv2.COLOR_BGR2RGB)\n",
        "im=cv2.resize(im,resolution)\n",
        "data_img.append(im)\n",
        "labels.append('057')\n",
        "im= cv2.imread(results_dir+'train-005_15.jpg')\n",
        "im= cv2.cvtColor(im,cv2.COLOR_BGR2RGB)\n",
        "im=cv2.resize(im,resolution)\n",
        "data_img.append(im)\n",
        "labels.append('054')\n",
        "im= cv2.imread(results_dir+'train-005_16.jpg')\n",
        "im= cv2.cvtColor(im,cv2.COLOR_BGR2RGB)\n",
        "im=cv2.resize(im,resolution)\n",
        "data_img.append(im)\n",
        "labels.append('089')\n",
        "im= cv2.imread(results_dir+'train-005_17.jpg')\n",
        "im= cv2.cvtColor(im,cv2.COLOR_BGR2RGB)\n",
        "im=cv2.resize(im,resolution)\n",
        "data_img.append(im)\n",
        "labels.append('017')\n",
        "\n",
        "im= cv2.imread(results_dir+'train-006_1.jpg')\n",
        "im= cv2.cvtColor(im,cv2.COLOR_BGR2RGB)\n",
        "im=cv2.resize(im,resolution)\n",
        "data_img.append(im)\n",
        "labels.append('005')\n",
        "im= cv2.imread(results_dir+'train-006_2.jpg')\n",
        "im= cv2.cvtColor(im,cv2.COLOR_BGR2RGB)\n",
        "im=cv2.resize(im,resolution)\n",
        "data_img.append(im)\n",
        "labels.append('063')\n",
        "im= cv2.imread(results_dir+'train-006_3.jpg')\n",
        "im= cv2.cvtColor(im,cv2.COLOR_BGR2RGB)\n",
        "im=cv2.resize(im,resolution)\n",
        "data_img.append(im)\n",
        "labels.append('018')\n",
        "im= cv2.imread(results_dir+'train-006_4.jpg')\n",
        "im= cv2.cvtColor(im,cv2.COLOR_BGR2RGB)\n",
        "im=cv2.resize(im,resolution)\n",
        "data_img.append(im)\n",
        "labels.append('040')\n",
        "im= cv2.imread(results_dir+'train-006_5.jpg')\n",
        "im= cv2.cvtColor(im,cv2.COLOR_BGR2RGB)\n",
        "im=cv2.resize(im,resolution)\n",
        "data_img.append(im)\n",
        "labels.append('033')\n",
        "im= cv2.imread(results_dir+'train-006_6.jpg')\n",
        "im= cv2.cvtColor(im,cv2.COLOR_BGR2RGB)\n",
        "im=cv2.resize(im,resolution)\n",
        "data_img.append(im)\n",
        "labels.append('047')\n",
        "im= cv2.imread(results_dir+'train-006_7.jpg')\n",
        "im= cv2.cvtColor(im,cv2.COLOR_BGR2RGB)\n",
        "im=cv2.resize(im,resolution)\n",
        "data_img.append(im)\n",
        "labels.append('210')\n",
        "im= cv2.imread(results_dir+'train-006_8.jpg')\n",
        "im= cv2.cvtColor(im,cv2.COLOR_BGR2RGB)\n",
        "im=cv2.resize(im,resolution)\n",
        "data_img.append(im)\n",
        "labels.append('052')\n",
        "im= cv2.imread(results_dir+'train-006_9.jpg')\n",
        "im= cv2.cvtColor(im,cv2.COLOR_BGR2RGB)\n",
        "im=cv2.resize(im,resolution)\n",
        "data_img.append(im)\n",
        "labels.append('067')\n",
        "im= cv2.imread(results_dir+'train-006_10.jpg')\n",
        "im= cv2.cvtColor(im,cv2.COLOR_BGR2RGB)\n",
        "im=cv2.resize(im,resolution)\n",
        "data_img.append(im)\n",
        "labels.append('052')\n",
        "im= cv2.imread(results_dir+'train-006_11.jpg')\n",
        "im= cv2.cvtColor(im,cv2.COLOR_BGR2RGB)\n",
        "im=cv2.resize(im,resolution)\n",
        "data_img.append(im)\n",
        "labels.append('036')\n",
        "im= cv2.imread(results_dir+'train-006_12.jpg') \n",
        "im= cv2.cvtColor(im,cv2.COLOR_BGR2RGB)\n",
        "im=cv2.resize(im,resolution)\n",
        "data_img.append(im)\n",
        "labels.append('048')\n",
        "im= cv2.imread(results_dir+'train-006_13.jpg')\n",
        "im= cv2.cvtColor(im,cv2.COLOR_BGR2RGB)\n",
        "im=cv2.resize(im,resolution)\n",
        "data_img.append(im)\n",
        "labels.append('033')\n",
        "im= cv2.imread(results_dir+'train-006_14.jpg')\n",
        "im= cv2.cvtColor(im,cv2.COLOR_BGR2RGB)\n",
        "im=cv2.resize(im,resolution)\n",
        "data_img.append(im)\n",
        "labels.append('054')\n",
        "im= cv2.imread(results_dir+'train-006_15.jpg')\n",
        "im= cv2.cvtColor(im,cv2.COLOR_BGR2RGB)\n",
        "im=cv2.resize(im,resolution)\n",
        "data_img.append(im)\n",
        "labels.append('026')\n",
        "im= cv2.imread(results_dir+'train-006_16.jpg')\n",
        "im= cv2.cvtColor(im,cv2.COLOR_BGR2RGB)\n",
        "im=cv2.resize(im,resolution)\n",
        "data_img.append(im)\n",
        "labels.append('031')\n",
        "\n",
        "\n",
        "im= cv2.imread(results_dir+'train-007_1.jpg')\n",
        "im= cv2.cvtColor(im,cv2.COLOR_BGR2RGB)\n",
        "im=cv2.resize(im,resolution)\n",
        "data_img.append(im)\n",
        "labels.append('024')\n",
        "im= cv2.imread(results_dir+'train-007_2.jpg')\n",
        "im= cv2.cvtColor(im,cv2.COLOR_BGR2RGB)\n",
        "im=cv2.resize(im,resolution)\n",
        "data_img.append(im)\n",
        "labels.append('002')\n",
        "im= cv2.imread(results_dir+'train-007_3.jpg')\n",
        "im= cv2.cvtColor(im,cv2.COLOR_BGR2RGB)\n",
        "im=cv2.resize(im,resolution)\n",
        "data_img.append(im)\n",
        "labels.append('028')\n",
        "im= cv2.imread(results_dir+'train-007_4.jpg')\n",
        "im= cv2.cvtColor(im,cv2.COLOR_BGR2RGB)\n",
        "im=cv2.resize(im,resolution)\n",
        "data_img.append(im)\n",
        "labels.append('065')\n",
        "im= cv2.imread(results_dir+'train-007_5.jpg')\n",
        "im= cv2.cvtColor(im,cv2.COLOR_BGR2RGB)\n",
        "im=cv2.resize(im,resolution)\n",
        "data_img.append(im)\n",
        "labels.append('021')\n",
        "im= cv2.imread(results_dir+'train-007_6.jpg')\n",
        "im= cv2.cvtColor(im,cv2.COLOR_BGR2RGB)\n",
        "im=cv2.resize(im,resolution)\n",
        "data_img.append(im)\n",
        "labels.append('098')\n",
        "im= cv2.imread(results_dir+'train-007_7.jpg')\n",
        "im= cv2.cvtColor(im,cv2.COLOR_BGR2RGB)\n",
        "im=cv2.resize(im,resolution)\n",
        "data_img.append(im)\n",
        "labels.append('011')\n",
        "im= cv2.imread(results_dir+'train-007_8.jpg')\n",
        "im= cv2.cvtColor(im,cv2.COLOR_BGR2RGB)\n",
        "im=cv2.resize(im,resolution)\n",
        "data_img.append(im)\n",
        "labels.append('037')\n",
        "im= cv2.imread(results_dir+'train-007_9.jpg')\n",
        "im= cv2.cvtColor(im,cv2.COLOR_BGR2RGB)\n",
        "im=cv2.resize(im,resolution)\n",
        "data_img.append(im)\n",
        "labels.append('045')\n",
        "im= cv2.imread(results_dir+'train-007_10.jpg')\n",
        "im= cv2.cvtColor(im,cv2.COLOR_BGR2RGB)\n",
        "im=cv2.resize(im,resolution)\n",
        "data_img.append(im)\n",
        "labels.append('024')\n",
        "im= cv2.imread(results_dir+'train-007_11.jpg')\n",
        "im= cv2.cvtColor(im,cv2.COLOR_BGR2RGB)\n",
        "im=cv2.resize(im,resolution)\n",
        "data_img.append(im)\n",
        "labels.append('082')\n",
        "im= cv2.imread(results_dir+'train-007_12.jpg') \n",
        "im= cv2.cvtColor(im,cv2.COLOR_BGR2RGB)\n",
        "im=cv2.resize(im,resolution)\n",
        "data_img.append(im)\n",
        "labels.append('042')\n",
        "im= cv2.imread(results_dir+'train-007_13.jpg')\n",
        "im= cv2.cvtColor(im,cv2.COLOR_BGR2RGB)\n",
        "im=cv2.resize(im,resolution)\n",
        "data_img.append(im)\n",
        "labels.append('092')\n",
        "im= cv2.imread(results_dir+'train-007_14.jpg')\n",
        "im= cv2.cvtColor(im,cv2.COLOR_BGR2RGB)\n",
        "im=cv2.resize(im,resolution)\n",
        "data_img.append(im)\n",
        "labels.append('007')\n",
        "im= cv2.imread(results_dir+'train-007_15.jpg')\n",
        "im= cv2.cvtColor(im,cv2.COLOR_BGR2RGB)\n",
        "im=cv2.resize(im,resolution)\n",
        "data_img.append(im)\n",
        "labels.append('011')\n",
        "im= cv2.imread(results_dir+'train-007_16.jpg')\n",
        "im= cv2.cvtColor(im,cv2.COLOR_BGR2RGB)\n",
        "im=cv2.resize(im,resolution)\n",
        "data_img.append(im)\n",
        "labels.append('054')\n",
        "im= cv2.imread(results_dir+'train-007_17.jpg')\n",
        "im= cv2.cvtColor(im,cv2.COLOR_BGR2RGB)\n",
        "im=cv2.resize(im,resolution)\n",
        "data_img.append(im)\n",
        "labels.append('096')\n",
        "im= cv2.imread(results_dir+'train-007_18.jpg')\n",
        "im= cv2.cvtColor(im,cv2.COLOR_BGR2RGB)\n",
        "im=cv2.resize(im,resolution)\n",
        "data_img.append(im)\n",
        "labels.append('063')\n",
        "\n",
        "\n",
        "im= cv2.imread(results_dir+'train-008_1.jpg')\n",
        "im= cv2.cvtColor(im,cv2.COLOR_BGR2RGB)\n",
        "im=cv2.resize(im,resolution)\n",
        "data_img.append(im)\n",
        "labels.append('114')\n",
        "im= cv2.imread(results_dir+'train-008_2.jpg')\n",
        "im= cv2.cvtColor(im,cv2.COLOR_BGR2RGB)\n",
        "im=cv2.resize(im,resolution)\n",
        "data_img.append(im)\n",
        "labels.append('168')\n",
        "im= cv2.imread(results_dir+'train-008_3.jpg')\n",
        "im= cv2.cvtColor(im,cv2.COLOR_BGR2RGB)\n",
        "im=cv2.resize(im,resolution)\n",
        "data_img.append(im)\n",
        "labels.append('142')\n",
        "im= cv2.imread(results_dir+'train-008_4.jpg')\n",
        "im= cv2.cvtColor(im,cv2.COLOR_BGR2RGB)\n",
        "im=cv2.resize(im,resolution)\n",
        "data_img.append(im)\n",
        "labels.append('115')\n",
        "im= cv2.imread(results_dir+'train-008_5.jpg')\n",
        "im= cv2.cvtColor(im,cv2.COLOR_BGR2RGB)\n",
        "im=cv2.resize(im,resolution)\n",
        "data_img.append(im)\n",
        "labels.append('101')\n",
        "im= cv2.imread(results_dir+'train-008_6.jpg')\n",
        "im= cv2.cvtColor(im,cv2.COLOR_BGR2RGB)\n",
        "im=cv2.resize(im,resolution)\n",
        "data_img.append(im)\n",
        "labels.append('190')\n",
        "im= cv2.imread(results_dir+'train-008_7.jpg')\n",
        "im= cv2.cvtColor(im,cv2.COLOR_BGR2RGB)\n",
        "im=cv2.resize(im,resolution)\n",
        "data_img.append(im)\n",
        "labels.append('104')\n",
        "im= cv2.imread(results_dir+'train-008_8.jpg')\n",
        "im= cv2.cvtColor(im,cv2.COLOR_BGR2RGB)\n",
        "im=cv2.resize(im,resolution)\n",
        "data_img.append(im)\n",
        "labels.append('124')\n",
        "im= cv2.imread(results_dir+'train-008_9.jpg')\n",
        "im= cv2.cvtColor(im,cv2.COLOR_BGR2RGB)\n",
        "im=cv2.resize(im,resolution)\n",
        "data_img.append(im)\n",
        "labels.append('183')\n",
        "im= cv2.imread(results_dir+'train-008_10.jpg')\n",
        "im= cv2.cvtColor(im,cv2.COLOR_BGR2RGB)\n",
        "im=cv2.resize(im,resolution)\n",
        "data_img.append(im)\n",
        "labels.append('164')\n",
        "im= cv2.imread(results_dir+'train-008_11.jpg')\n",
        "im= cv2.cvtColor(im,cv2.COLOR_BGR2RGB)\n",
        "im=cv2.resize(im,resolution)\n",
        "data_img.append(im)\n",
        "labels.append('138')\n",
        "im= cv2.imread(results_dir+'train-008_12.jpg') \n",
        "im= cv2.cvtColor(im,cv2.COLOR_BGR2RGB)\n",
        "im=cv2.resize(im,resolution)\n",
        "data_img.append(im)\n",
        "labels.append('087')\n",
        "im= cv2.imread(results_dir+'train-008_13.jpg')\n",
        "im= cv2.cvtColor(im,cv2.COLOR_BGR2RGB)\n",
        "im=cv2.resize(im,resolution)\n",
        "data_img.append(im)\n",
        "labels.append('161')\n",
        "im= cv2.imread(results_dir+'train-008_14.jpg')\n",
        "im= cv2.cvtColor(im,cv2.COLOR_BGR2RGB)\n",
        "im=cv2.resize(im,resolution)\n",
        "data_img.append(im)\n",
        "labels.append('192')\n",
        "im= cv2.imread(results_dir+'train-008_15.jpg')\n",
        "im= cv2.cvtColor(im,cv2.COLOR_BGR2RGB)\n",
        "im=cv2.resize(im,resolution)\n",
        "data_img.append(im)\n",
        "labels.append('177')\n",
        "im= cv2.imread(results_dir+'train-008_16.jpg')\n",
        "im= cv2.cvtColor(im,cv2.COLOR_BGR2RGB)\n",
        "im=cv2.resize(im,resolution)\n",
        "data_img.append(im)\n",
        "labels.append('150')\n",
        "im= cv2.imread(results_dir+'train-008_17.jpg')\n",
        "im= cv2.cvtColor(im,cv2.COLOR_BGR2RGB)\n",
        "im=cv2.resize(im,resolution)\n",
        "data_img.append(im)\n",
        "labels.append('160')\n",
        "\n",
        "\n",
        "im= cv2.imread(results_dir+'train-009_1.jpg')\n",
        "im= cv2.cvtColor(im,cv2.COLOR_BGR2RGB)\n",
        "im=cv2.resize(im,resolution)\n",
        "data_img.append(im)\n",
        "labels.append('146')\n",
        "im= cv2.imread(results_dir+'train-009_2.jpg')\n",
        "im= cv2.cvtColor(im,cv2.COLOR_BGR2RGB)\n",
        "im=cv2.resize(im,resolution)\n",
        "data_img.append(im)\n",
        "labels.append('108')\n",
        "im= cv2.imread(results_dir+'train-009_3.jpg')\n",
        "im= cv2.cvtColor(im,cv2.COLOR_BGR2RGB)\n",
        "im=cv2.resize(im,resolution)\n",
        "data_img.append(im)\n",
        "labels.append('189')\n",
        "im= cv2.imread(results_dir+'train-009_4.jpg')\n",
        "im= cv2.cvtColor(im,cv2.COLOR_BGR2RGB)\n",
        "im=cv2.resize(im,resolution)\n",
        "data_img.append(im)\n",
        "labels.append('127')\n",
        "im= cv2.imread(results_dir+'train-009_5.jpg')\n",
        "im= cv2.cvtColor(im,cv2.COLOR_BGR2RGB)\n",
        "im=cv2.resize(im,resolution)\n",
        "data_img.append(im)\n",
        "labels.append('151')\n",
        "im= cv2.imread(results_dir+'train-009_6.jpg')\n",
        "im= cv2.cvtColor(im,cv2.COLOR_BGR2RGB)\n",
        "im=cv2.resize(im,resolution)\n",
        "data_img.append(im)\n",
        "labels.append('198')\n",
        "im= cv2.imread(results_dir+'train-009_7.jpg')\n",
        "im= cv2.cvtColor(im,cv2.COLOR_BGR2RGB)\n",
        "im=cv2.resize(im,resolution)\n",
        "data_img.append(im)\n",
        "labels.append('108')\n",
        "im= cv2.imread(results_dir+'train-009_8.jpg')\n",
        "im= cv2.cvtColor(im,cv2.COLOR_BGR2RGB)\n",
        "im=cv2.resize(im,resolution)\n",
        "data_img.append(im)\n",
        "labels.append('154')\n",
        "im= cv2.imread(results_dir+'train-009_9.jpg')\n",
        "im= cv2.cvtColor(im,cv2.COLOR_BGR2RGB)\n",
        "im=cv2.resize(im,resolution)\n",
        "data_img.append(im)\n",
        "labels.append('109')\n",
        "im= cv2.imread(results_dir+'train-009_10.jpg')\n",
        "im= cv2.cvtColor(im,cv2.COLOR_BGR2RGB)\n",
        "im=cv2.resize(im,resolution)\n",
        "data_img.append(im)\n",
        "labels.append('182')\n",
        "im= cv2.imread(results_dir+'train-009_11.jpg')\n",
        "im= cv2.cvtColor(im,cv2.COLOR_BGR2RGB)\n",
        "im=cv2.resize(im,resolution)\n",
        "data_img.append(im)\n",
        "labels.append('146')\n",
        "im= cv2.imread(results_dir+'train-009_12.jpg') \n",
        "im= cv2.cvtColor(im,cv2.COLOR_BGR2RGB)\n",
        "im=cv2.resize(im,resolution)\n",
        "data_img.append(im)\n",
        "labels.append('129')\n",
        "im= cv2.imread(results_dir+'train-009_13.jpg')\n",
        "im= cv2.cvtColor(im,cv2.COLOR_BGR2RGB)\n",
        "im=cv2.resize(im,resolution)\n",
        "data_img.append(im)\n",
        "labels.append('106')\n",
        "im= cv2.imread(results_dir+'train-009_14.jpg')\n",
        "im= cv2.cvtColor(im,cv2.COLOR_BGR2RGB)\n",
        "im=cv2.resize(im,resolution)\n",
        "data_img.append(im)\n",
        "labels.append('136')\n",
        "im= cv2.imread(results_dir+'train-009_15.jpg')\n",
        "im= cv2.cvtColor(im,cv2.COLOR_BGR2RGB)\n",
        "im=cv2.resize(im,resolution)\n",
        "data_img.append(im)\n",
        "labels.append('139')\n",
        "im= cv2.imread(results_dir+'train-009_16.jpg')\n",
        "im= cv2.cvtColor(im,cv2.COLOR_BGR2RGB)\n",
        "im=cv2.resize(im,resolution)\n",
        "data_img.append(im)\n",
        "labels.append('147')\n",
        "im= cv2.imread(results_dir+'train-009_17.jpg')\n",
        "im= cv2.cvtColor(im,cv2.COLOR_BGR2RGB)\n",
        "im=cv2.resize(im,resolution)\n",
        "data_img.append(im)\n",
        "labels.append('109')\n",
        "\n",
        "\n",
        "\n",
        "im= cv2.imread(results_dir+'train-010_1.jpg')\n",
        "im= cv2.cvtColor(im,cv2.COLOR_BGR2RGB)\n",
        "im=cv2.resize(im,resolution)\n",
        "data_img.append(im)\n",
        "labels.append('191')\n",
        "im= cv2.imread(results_dir+'train-010_2.jpg') \n",
        "im= cv2.cvtColor(im,cv2.COLOR_BGR2RGB)\n",
        "im=cv2.resize(im,resolution)\n",
        "data_img.append(im)\n",
        "labels.append('001')\n",
        "im= cv2.imread(results_dir+'train-010_3.jpg')  \n",
        "im= cv2.cvtColor(im,cv2.COLOR_BGR2RGB) \n",
        "im=cv2.resize(im,resolution)\n",
        "data_img.append(im)\n",
        "labels.append('133')\n",
        "im= cv2.imread(results_dir+'train-010_4.jpg')\n",
        "im= cv2.cvtColor(im,cv2.COLOR_BGR2RGB)\n",
        "im=cv2.resize(im,resolution)\n",
        "data_img.append(im)\n",
        "labels.append('148')\n",
        "im= cv2.imread(results_dir+'train-010_5.jpg')\n",
        "im= cv2.cvtColor(im,cv2.COLOR_BGR2RGB)\n",
        "im=cv2.resize(im,resolution)\n",
        "data_img.append(im)\n",
        "labels.append('146')\n",
        "im= cv2.imread(results_dir+'train-010_6.jpg')\n",
        "im= cv2.cvtColor(im,cv2.COLOR_BGR2RGB)\n",
        "im=cv2.resize(im,resolution)\n",
        "data_img.append(im)\n",
        "labels.append('142')\n",
        "im= cv2.imread(results_dir+'train-010_7.jpg') \n",
        "im= cv2.cvtColor(im,cv2.COLOR_BGR2RGB)\n",
        "im=cv2.resize(im,resolution)\n",
        "data_img.append(im)\n",
        "labels.append('108')\n",
        "im= cv2.imread(results_dir+'train-010_8.jpg')\n",
        "im= cv2.cvtColor(im,cv2.COLOR_BGR2RGB)\n",
        "im=cv2.resize(im,resolution)\n",
        "data_img.append(im)\n",
        "labels.append('154')\n",
        "im= cv2.imread(results_dir+'train-010_9.jpg')\n",
        "im= cv2.cvtColor(im,cv2.COLOR_BGR2RGB)\n",
        "im=cv2.resize(im,resolution)\n",
        "data_img.append(im)\n",
        "labels.append('182')\n",
        "im= cv2.imread(results_dir+'train-010_10.jpg')\n",
        "im= cv2.cvtColor(im,cv2.COLOR_BGR2RGB)\n",
        "im=cv2.resize(im,resolution)\n",
        "data_img.append(im)\n",
        "labels.append('147')\n",
        "im= cv2.imread(results_dir+'train-010_11.jpg')\n",
        "im= cv2.cvtColor(im,cv2.COLOR_BGR2RGB)\n",
        "im=cv2.resize(im,resolution)\n",
        "data_img.append(im)\n",
        "labels.append('190')\n",
        "im= cv2.imread(results_dir+'train-010_12.jpg') \n",
        "im= cv2.cvtColor(im,cv2.COLOR_BGR2RGB)\n",
        "im=cv2.resize(im,resolution)\n",
        "data_img.append(im)\n",
        "labels.append('114')\n",
        "im= cv2.imread(results_dir+'train-010_13.jpg')\n",
        "im= cv2.cvtColor(im,cv2.COLOR_BGR2RGB)\n",
        "im=cv2.resize(im,resolution)\n",
        "data_img.append(im)\n",
        "labels.append('192')\n",
        "im= cv2.imread(results_dir+'train-010_14.jpg')\n",
        "im= cv2.cvtColor(im,cv2.COLOR_BGR2RGB)\n",
        "im=cv2.resize(im,resolution)\n",
        "data_img.append(im)\n",
        "labels.append('198')\n",
        "im= cv2.imread(results_dir+'train-010_15.jpg')\n",
        "im= cv2.cvtColor(im,cv2.COLOR_BGR2RGB)\n",
        "im=cv2.resize(im,resolution)\n",
        "data_img.append(im)\n",
        "labels.append('174')\n",
        "im= cv2.imread(results_dir+'train-010_16.jpg')\n",
        "im= cv2.cvtColor(im,cv2.COLOR_BGR2RGB)\n",
        "im=cv2.resize(im,resolution)\n",
        "data_img.append(im)\n",
        "labels.append('134')\n",
        "im= cv2.imread(results_dir+'train-010_17.jpg')\n",
        "im= cv2.cvtColor(im,cv2.COLOR_BGR2RGB)\n",
        "im=cv2.resize(im,resolution)\n",
        "data_img.append(im)\n",
        "labels.append('103')\n",
        "im= cv2.imread(results_dir+'train-010_18.jpg')\n",
        "im= cv2.cvtColor(im,cv2.COLOR_BGR2RGB)\n",
        "im=cv2.resize(im,resolution)\n",
        "data_img.append(im)\n",
        "labels.append('96')\n",
        "\n",
        "\n",
        "\n",
        "im= cv2.imread(results_dir+'train-012_1.jpg')\n",
        "im= cv2.cvtColor(im,cv2.COLOR_BGR2RGB)\n",
        "im=cv2.resize(im,resolution)\n",
        "data_img.append(im)\n",
        "labels.append('131')\n",
        "im= cv2.imread(results_dir+'train-012_2.jpg') \n",
        "im= cv2.cvtColor(im,cv2.COLOR_BGR2RGB)\n",
        "im=cv2.resize(im,resolution)\n",
        "data_img.append(im)\n",
        "labels.append('139')\n",
        "im= cv2.imread(results_dir+'train-012_3.jpg')  \n",
        "im= cv2.cvtColor(im,cv2.COLOR_BGR2RGB) \n",
        "im=cv2.resize(im,resolution)\n",
        "data_img.append(im)\n",
        "labels.append('184')\n",
        "im= cv2.imread(results_dir+'train-012_4.jpg')\n",
        "im= cv2.cvtColor(im,cv2.COLOR_BGR2RGB)\n",
        "im=cv2.resize(im,resolution)\n",
        "data_img.append(im)\n",
        "labels.append('156')\n",
        "im= cv2.imread(results_dir+'train-012_5.jpg')\n",
        "im= cv2.cvtColor(im,cv2.COLOR_BGR2RGB)\n",
        "im=cv2.resize(im,resolution)\n",
        "data_img.append(im)\n",
        "labels.append('106')\n",
        "im= cv2.imread(results_dir+'train-012_6.jpg')\n",
        "im= cv2.cvtColor(im,cv2.COLOR_BGR2RGB)\n",
        "im=cv2.resize(im,resolution)\n",
        "data_img.append(im)\n",
        "labels.append('181')\n",
        "im= cv2.imread(results_dir+'train-012_7.jpg') \n",
        "im= cv2.cvtColor(im,cv2.COLOR_BGR2RGB)\n",
        "im=cv2.resize(im,resolution)\n",
        "data_img.append(im)\n",
        "labels.append('111')\n",
        "im= cv2.imread(results_dir+'train-012_8.jpg')\n",
        "im= cv2.cvtColor(im,cv2.COLOR_BGR2RGB)\n",
        "im=cv2.resize(im,resolution)\n",
        "data_img.append(im)\n",
        "labels.append('156')\n",
        "im= cv2.imread(results_dir+'train-012_9.jpg')\n",
        "im= cv2.cvtColor(im,cv2.COLOR_BGR2RGB)\n",
        "im=cv2.resize(im,resolution)\n",
        "data_img.append(im)\n",
        "labels.append('189')\n",
        "im= cv2.imread(results_dir+'train-012_10.jpg')\n",
        "im= cv2.cvtColor(im,cv2.COLOR_BGR2RGB)\n",
        "im=cv2.resize(im,resolution)\n",
        "data_img.append(im)\n",
        "labels.append('172')\n",
        "im= cv2.imread(results_dir+'train-012_11.jpg')\n",
        "im= cv2.cvtColor(im,cv2.COLOR_BGR2RGB)\n",
        "im=cv2.resize(im,resolution)\n",
        "data_img.append(im)\n",
        "labels.append('181')\n",
        "im= cv2.imread(results_dir+'train-012_12.jpg') \n",
        "im= cv2.cvtColor(im,cv2.COLOR_BGR2RGB)\n",
        "im=cv2.resize(im,resolution)\n",
        "data_img.append(im)\n",
        "labels.append('120')\n",
        "im= cv2.imread(results_dir+'train-012_13.jpg')\n",
        "im= cv2.cvtColor(im,cv2.COLOR_BGR2RGB)\n",
        "im=cv2.resize(im,resolution)\n",
        "data_img.append(im)\n",
        "labels.append('171')\n",
        "im= cv2.imread(results_dir+'train-012_14.jpg')\n",
        "im= cv2.cvtColor(im,cv2.COLOR_BGR2RGB)\n",
        "im=cv2.resize(im,resolution)\n",
        "data_img.append(im)\n",
        "labels.append('182')\n",
        "im= cv2.imread(results_dir+'train-012_15.jpg')\n",
        "im= cv2.cvtColor(im,cv2.COLOR_BGR2RGB)\n",
        "im=cv2.resize(im,resolution)\n",
        "data_img.append(im)\n",
        "labels.append('134')\n",
        "im= cv2.imread(results_dir+'train-012_16.jpg')\n",
        "im= cv2.cvtColor(im,cv2.COLOR_BGR2RGB)\n",
        "im=cv2.resize(im,resolution)\n",
        "data_img.append(im)\n",
        "labels.append('172')\n",
        "im= cv2.imread(results_dir+'train-012_17.jpg')\n",
        "im= cv2.cvtColor(im,cv2.COLOR_BGR2RGB)\n",
        "im=cv2.resize(im,resolution)\n",
        "data_img.append(im)\n",
        "labels.append('133')\n",
        "\n",
        "\n",
        "\n",
        "im= cv2.imread(results_dir+'train-013_1.jpg')\n",
        "im= cv2.cvtColor(im,cv2.COLOR_BGR2RGB)\n",
        "im=cv2.resize(im,resolution)\n",
        "data_img.append(im)\n",
        "labels.append('198')\n",
        "im= cv2.imread(results_dir+'train-013_2.jpg') \n",
        "im= cv2.cvtColor(im,cv2.COLOR_BGR2RGB)\n",
        "im=cv2.resize(im,resolution)\n",
        "data_img.append(im)\n",
        "labels.append('109')\n",
        "im= cv2.imread(results_dir+'train-013_3.jpg')  \n",
        "im= cv2.cvtColor(im,cv2.COLOR_BGR2RGB) \n",
        "im=cv2.resize(im,resolution)\n",
        "data_img.append(im)\n",
        "labels.append('114')\n",
        "im= cv2.imread(results_dir+'train-013_4.jpg')\n",
        "im= cv2.cvtColor(im,cv2.COLOR_BGR2RGB)\n",
        "im=cv2.resize(im,resolution)\n",
        "data_img.append(im)\n",
        "labels.append('181')\n",
        "im= cv2.imread(results_dir+'train-013_5.jpg')\n",
        "im= cv2.cvtColor(im,cv2.COLOR_BGR2RGB)\n",
        "im=cv2.resize(im,resolution)\n",
        "data_img.append(im)\n",
        "labels.append('135')\n",
        "im= cv2.imread(results_dir+'train-013_6.jpg')\n",
        "im= cv2.cvtColor(im,cv2.COLOR_BGR2RGB)\n",
        "im=cv2.resize(im,resolution)\n",
        "data_img.append(im)\n",
        "labels.append('127')\n",
        "im= cv2.imread(results_dir+'train-013_7.jpg') \n",
        "im= cv2.cvtColor(im,cv2.COLOR_BGR2RGB)\n",
        "im=cv2.resize(im,resolution)\n",
        "data_img.append(im)\n",
        "labels.append('170')\n",
        "im= cv2.imread(results_dir+'train-013_8.jpg')\n",
        "im= cv2.cvtColor(im,cv2.COLOR_BGR2RGB)\n",
        "im=cv2.resize(im,resolution)\n",
        "data_img.append(im)\n",
        "labels.append('136')\n",
        "im= cv2.imread(results_dir+'train-013_9.jpg')\n",
        "im= cv2.cvtColor(im,cv2.COLOR_BGR2RGB)\n",
        "im=cv2.resize(im,resolution)\n",
        "data_img.append(im)\n",
        "labels.append('112')\n",
        "im= cv2.imread(results_dir+'train-013_10.jpg')\n",
        "im= cv2.cvtColor(im,cv2.COLOR_BGR2RGB)\n",
        "im=cv2.resize(im,resolution)\n",
        "data_img.append(im)\n",
        "labels.append('125')\n",
        "im= cv2.imread(results_dir+'train-013_11.jpg')\n",
        "im= cv2.cvtColor(im,cv2.COLOR_BGR2RGB)\n",
        "im=cv2.resize(im,resolution)\n",
        "data_img.append(im)\n",
        "labels.append('112')\n",
        "im= cv2.imread(results_dir+'train-013_12.jpg') \n",
        "im= cv2.cvtColor(im,cv2.COLOR_BGR2RGB)\n",
        "im=cv2.resize(im,resolution)\n",
        "data_img.append(im)\n",
        "labels.append('139')\n",
        "im= cv2.imread(results_dir+'train-013_13.jpg')   \n",
        "im= cv2.cvtColor(im,cv2.COLOR_BGR2RGB)\n",
        "im=cv2.resize(im,resolution)\n",
        "data_img.append(im)\n",
        "labels.append('171')\n",
        "im= cv2.imread(results_dir+'train-013_14.jpg')\n",
        "im= cv2.cvtColor(im,cv2.COLOR_BGR2RGB)\n",
        "im=cv2.resize(im,resolution)\n",
        "data_img.append(im)\n",
        "labels.append('139')\n",
        "im= cv2.imread(results_dir+'train-013_15.jpg')\n",
        "im= cv2.cvtColor(im,cv2.COLOR_BGR2RGB)\n",
        "im=cv2.resize(im,resolution)\n",
        "data_img.append(im)\n",
        "labels.append('139')\n",
        "im= cv2.imread(results_dir+'train-013_16.jpg')\n",
        "im= cv2.cvtColor(im,cv2.COLOR_BGR2RGB)\n",
        "im=cv2.resize(im,resolution)\n",
        "data_img.append(im)\n",
        "labels.append('150')\n",
        "im= cv2.imread(results_dir+'train-013_17.jpg')\n",
        "im= cv2.cvtColor(im,cv2.COLOR_BGR2RGB)\n",
        "im=cv2.resize(im,resolution)\n",
        "data_img.append(im)\n",
        "labels.append('165')\n",
        "im= cv2.imread(results_dir+'train-013_18.jpg')\n",
        "im= cv2.cvtColor(im,cv2.COLOR_BGR2RGB)\n",
        "im=cv2.resize(im,resolution)\n",
        "data_img.append(im)\n",
        "labels.append('162')\n",
        "\n",
        "\n",
        "im= cv2.imread(results_dir+'train-014_1.jpg')\n",
        "im= cv2.cvtColor(im,cv2.COLOR_BGR2RGB)\n",
        "im=cv2.resize(im,resolution)\n",
        "data_img.append(im)\n",
        "labels.append('168')\n",
        "im= cv2.imread(results_dir+'train-014_2.jpg') \n",
        "im= cv2.cvtColor(im,cv2.COLOR_BGR2RGB)\n",
        "im=cv2.resize(im,resolution)\n",
        "data_img.append(im)\n",
        "labels.append('121')\n",
        "im= cv2.imread(results_dir+'train-014_3.jpg')  \n",
        "im= cv2.cvtColor(im,cv2.COLOR_BGR2RGB) \n",
        "im=cv2.resize(im,resolution)\n",
        "data_img.append(im)\n",
        "labels.append('104')\n",
        "im= cv2.imread(results_dir+'train-014_4.jpg')\n",
        "im= cv2.cvtColor(im,cv2.COLOR_BGR2RGB)\n",
        "im=cv2.resize(im,resolution)\n",
        "data_img.append(im)\n",
        "labels.append('187')\n",
        "im= cv2.imread(results_dir+'train-014_5.jpg')\n",
        "im= cv2.cvtColor(im,cv2.COLOR_BGR2RGB)\n",
        "im=cv2.resize(im,resolution)\n",
        "data_img.append(im)\n",
        "labels.append('151')\n",
        "im= cv2.imread(results_dir+'train-014_6.jpg')\n",
        "im= cv2.cvtColor(im,cv2.COLOR_BGR2RGB)\n",
        "im=cv2.resize(im,resolution)\n",
        "data_img.append(im)\n",
        "labels.append('112')\n",
        "im= cv2.imread(results_dir+'train-014_7.jpg') \n",
        "im= cv2.cvtColor(im,cv2.COLOR_BGR2RGB)\n",
        "im=cv2.resize(im,resolution)\n",
        "data_img.append(im)\n",
        "labels.append('119')\n",
        "im= cv2.imread(results_dir+'train-014_8.jpg')\n",
        "im= cv2.cvtColor(im,cv2.COLOR_BGR2RGB)\n",
        "im=cv2.resize(im,resolution)\n",
        "data_img.append(im)\n",
        "labels.append('162')\n",
        "im= cv2.imread(results_dir+'train-014_9.jpg')\n",
        "im= cv2.cvtColor(im,cv2.COLOR_BGR2RGB)\n",
        "im=cv2.resize(im,resolution)\n",
        "data_img.append(im)\n",
        "labels.append('168')\n",
        "im= cv2.imread(results_dir+'train-014_10.jpg')\n",
        "im= cv2.cvtColor(im,cv2.COLOR_BGR2RGB)\n",
        "im=cv2.resize(im,resolution)\n",
        "data_img.append(im)\n",
        "labels.append('193')\n",
        "im= cv2.imread(results_dir+'train-014_11.jpg')\n",
        "im= cv2.cvtColor(im,cv2.COLOR_BGR2RGB)\n",
        "im=cv2.resize(im,resolution)\n",
        "data_img.append(im)\n",
        "labels.append('121')\n"
      ],
      "metadata": {
        "id": "QvZhO7qNEVfd"
      },
      "execution_count": 5,
      "outputs": []
    },
    {
      "cell_type": "code",
      "source": [
        "# convert data_img to numpy arrays and normalize\n",
        "x = np.array(data_img).astype('float')/255.0\n",
        "y = np.array(labels)\n",
        "\n",
        "print('x shape is ', x.shape)\n",
        "print('y shape is ', y.shape)"
      ],
      "metadata": {
        "id": "8vokH7mavyZn",
        "colab": {
          "base_uri": "https://localhost:8080/"
        },
        "outputId": "2837e051-5231-4185-9b64-c35707a860d7"
      },
      "execution_count": 6,
      "outputs": [
        {
          "output_type": "stream",
          "name": "stdout",
          "text": [
            "x shape is  (203, 256, 256, 3)\n",
            "y shape is  (203,)\n"
          ]
        }
      ]
    },
    {
      "cell_type": "markdown",
      "source": [
        "**One-hot encoding of labels**: One hot encoding converts labels to a set of columns with values 1 and 0 depending on the occurence. Each label is represented as a binary vector which makes training the model more efficient."
      ],
      "metadata": {
        "id": "JFTHA8RJdI45"
      }
    },
    {
      "cell_type": "code",
      "source": [
        "from keras.utils import np_utils\n",
        "y = keras.utils.np_utils.to_categorical(y)                                        #converting labels y to one-hot encoding \n"
      ],
      "metadata": {
        "id": "GqmCi3daJb09"
      },
      "execution_count": 7,
      "outputs": []
    },
    {
      "cell_type": "code",
      "source": [
        "# Split the train and the validation set \n",
        "from sklearn.model_selection import train_test_split\n",
        "x_train, x_val, y_train, y_val = train_test_split(x, y, test_size=0.20, shuffle=True)"
      ],
      "metadata": {
        "id": "RDr9dc0bYDdU"
      },
      "execution_count": 8,
      "outputs": []
    },
    {
      "cell_type": "code",
      "source": [
        "print('x_train shape is ', x_train.shape)\n",
        "print('y_train shape is ', y_train.shape)\n",
        "print('x_val shape is ', x_val.shape)\n",
        "print('y_val shape is ', y_val.shape)"
      ],
      "metadata": {
        "id": "LVPO6UDceDgQ",
        "colab": {
          "base_uri": "https://localhost:8080/"
        },
        "outputId": "efded88b-25b3-4bb8-875f-1d34fef3eda4"
      },
      "execution_count": 9,
      "outputs": [
        {
          "output_type": "stream",
          "name": "stdout",
          "text": [
            "x_train shape is  (162, 256, 256, 3)\n",
            "y_train shape is  (162, 211)\n",
            "x_val shape is  (41, 256, 256, 3)\n",
            "y_val shape is  (41, 211)\n"
          ]
        }
      ]
    },
    {
      "cell_type": "code",
      "source": [
        "from keras import backend as K\n",
        "\n",
        "# input image dimensions\n",
        "img_rows, img_cols, num_channels = data_img[0].shape\n",
        "\n",
        "if K.image_data_format() == 'channels_first':\n",
        "    x_train = x_train.reshape(x_train.shape[0], num_channels, img_rows, img_cols)\n",
        "    x_val = x_val.reshape(x_val.shape[0], num_channels, img_rows, img_cols)\n",
        "    input_shape = (num_channels, img_rows, img_cols)\n",
        "else:\n",
        "    x_train = x_train.reshape(x_train.shape[0], img_rows, img_cols, num_channels)\n",
        "    x_val = x_val.reshape(x_val.shape[0], img_rows, img_cols, num_channels)\n",
        "    input_shape = (img_rows, img_cols, num_channels)\n",
        "    \n",
        "print('input_shape is ', input_shape)"
      ],
      "metadata": {
        "id": "BBNoGLmfKulo",
        "colab": {
          "base_uri": "https://localhost:8080/"
        },
        "outputId": "b87bdd73-5c88-43a4-b44e-39889192f8b7"
      },
      "execution_count": 10,
      "outputs": [
        {
          "output_type": "stream",
          "name": "stdout",
          "text": [
            "input_shape is  (256, 256, 3)\n"
          ]
        }
      ]
    },
    {
      "cell_type": "markdown",
      "source": [
        "**Implementing Keras CNN model**: Keras provides functionality to construct models with multiple sequential layers which perform different operations on the input set. \n",
        "Conv2D layer runs convolution with kernel (2,3) on the training image and extracts features. \n",
        "MaxPooling layer reduces the dimension of data by taking the max value of the feature cluster map. Output units with softmax activation fn and num_classes as 211 is used."
      ],
      "metadata": {
        "id": "0iG8YRj0dzyu"
      }
    },
    {
      "cell_type": "code",
      "source": [
        "print('Input shape is ', input_shape)\n",
        "\n",
        "model = Sequential()\n",
        "\n",
        "\n",
        "model.add(Conv2D(2, 3, activation='relu', padding=\"same\", input_shape=input_shape))\n",
        "\n",
        "model.add(MaxPooling2D(pool_size = 2, strides = 2))\n",
        "\n",
        "model.add(Conv2D(2, 3, activation='relu', padding=\"same\"))\n",
        "\n",
        "model.add(MaxPooling2D(pool_size = 2, strides = 2))\n",
        "\n",
        "model.add(Conv2D(2, 3, activation='relu', padding=\"same\"))\n",
        "\n",
        "model.add(MaxPooling2D(pool_size = 2, strides = 2))\n",
        "\n",
        "model.add(Flatten())\n",
        "\n",
        "model.add(Dense(activation='softmax' , units=211)) \n"
      ],
      "metadata": {
        "id": "PYSJz9yPC1Gn",
        "colab": {
          "base_uri": "https://localhost:8080/"
        },
        "outputId": "818712e2-407f-41ff-cf2d-47fffedc67ad"
      },
      "execution_count": 11,
      "outputs": [
        {
          "output_type": "stream",
          "name": "stdout",
          "text": [
            "Input shape is  (256, 256, 3)\n"
          ]
        }
      ]
    },
    {
      "cell_type": "code",
      "source": [
        "import tensorflow as tf\n",
        "\n",
        "batch_size = 20                   \n",
        "epochs = 10 \n",
        "\n",
        "model.build(input_shape)\n",
        "model.summary()\n",
        "\n",
        "model.compile(loss=tf.keras.losses.categorical_crossentropy,                          # cross entropy loss function\n",
        "              optimizer=tf.keras.optimizers.Adam(learning_rate=0.01),                 # Adam optimizer \n",
        "              metrics=['accuracy'])\n",
        "\n",
        "history = model.fit(x_train, y_train,                                                 #fitting model on training set \n",
        "          batch_size=batch_size,\n",
        "          epochs=epochs,\n",
        "          verbose=1,\n",
        "          validation_data = (x_val,y_val)                                             #validation of model run on validation set\n",
        "          )"
      ],
      "metadata": {
        "id": "n0Z0rdzPZhsx",
        "colab": {
          "base_uri": "https://localhost:8080/"
        },
        "outputId": "fe96d74e-6a58-4095-f23c-e843044c3f7e"
      },
      "execution_count": 12,
      "outputs": [
        {
          "output_type": "stream",
          "name": "stdout",
          "text": [
            "Model: \"sequential\"\n",
            "_________________________________________________________________\n",
            " Layer (type)                Output Shape              Param #   \n",
            "=================================================================\n",
            " conv2d (Conv2D)             (None, 256, 256, 2)       56        \n",
            "                                                                 \n",
            " max_pooling2d (MaxPooling2D  (None, 128, 128, 2)      0         \n",
            " )                                                               \n",
            "                                                                 \n",
            " conv2d_1 (Conv2D)           (None, 128, 128, 2)       38        \n",
            "                                                                 \n",
            " max_pooling2d_1 (MaxPooling  (None, 64, 64, 2)        0         \n",
            " 2D)                                                             \n",
            "                                                                 \n",
            " conv2d_2 (Conv2D)           (None, 64, 64, 2)         38        \n",
            "                                                                 \n",
            " max_pooling2d_2 (MaxPooling  (None, 32, 32, 2)        0         \n",
            " 2D)                                                             \n",
            "                                                                 \n",
            " flatten (Flatten)           (None, 2048)              0         \n",
            "                                                                 \n",
            " dense (Dense)               (None, 211)               432339    \n",
            "                                                                 \n",
            "=================================================================\n",
            "Total params: 432,471\n",
            "Trainable params: 432,471\n",
            "Non-trainable params: 0\n",
            "_________________________________________________________________\n",
            "Epoch 1/10\n",
            "9/9 [==============================] - 9s 821ms/step - loss: 5.2950 - accuracy: 0.0123 - val_loss: 5.1875 - val_accuracy: 0.0244\n",
            "Epoch 2/10\n",
            "9/9 [==============================] - 7s 768ms/step - loss: 4.5080 - accuracy: 0.1296 - val_loss: 5.5194 - val_accuracy: 0.0244\n",
            "Epoch 3/10\n",
            "9/9 [==============================] - 7s 788ms/step - loss: 3.5210 - accuracy: 0.2037 - val_loss: 6.5332 - val_accuracy: 0.1220\n",
            "Epoch 4/10\n",
            "9/9 [==============================] - 7s 767ms/step - loss: 1.4656 - accuracy: 0.7840 - val_loss: 10.3735 - val_accuracy: 0.2195\n",
            "Epoch 5/10\n",
            "9/9 [==============================] - 7s 778ms/step - loss: 0.1666 - accuracy: 0.9506 - val_loss: 15.1725 - val_accuracy: 0.2927\n",
            "Epoch 6/10\n",
            "9/9 [==============================] - 7s 791ms/step - loss: 0.0454 - accuracy: 0.9877 - val_loss: 14.6545 - val_accuracy: 0.2927\n",
            "Epoch 7/10\n",
            "9/9 [==============================] - 7s 743ms/step - loss: 0.0017 - accuracy: 1.0000 - val_loss: 15.1722 - val_accuracy: 0.2439\n",
            "Epoch 8/10\n",
            "9/9 [==============================] - 7s 785ms/step - loss: 0.0029 - accuracy: 1.0000 - val_loss: 15.8507 - val_accuracy: 0.2439\n",
            "Epoch 9/10\n",
            "9/9 [==============================] - 7s 820ms/step - loss: 2.9036e-04 - accuracy: 1.0000 - val_loss: 16.3992 - val_accuracy: 0.2439\n",
            "Epoch 10/10\n",
            "9/9 [==============================] - 7s 799ms/step - loss: 1.1093e-04 - accuracy: 1.0000 - val_loss: 16.7302 - val_accuracy: 0.2683\n"
          ]
        }
      ]
    },
    {
      "cell_type": "markdown",
      "source": [
        "**Plotting accuracy of model for training and validation sets** : It can be seen that the model is overfitting as training accuracy exceeds the validation accuracy."
      ],
      "metadata": {
        "id": "JTHYHxGGgefS"
      }
    },
    {
      "cell_type": "code",
      "source": [
        "from matplotlib import pyplot as plt\n",
        "\n",
        "plt.plot(history.history['accuracy'])\n",
        "plt.plot(history.history['val_accuracy'])\n",
        "plt.title('model accuracy')\n",
        "plt.ylabel('accuracy')\n",
        "plt.xlabel('epoch')\n",
        "plt.legend(['train', 'val'], loc='upper left')\n",
        "plt.show()"
      ],
      "metadata": {
        "id": "wFDSoVnpiYKR",
        "colab": {
          "base_uri": "https://localhost:8080/",
          "height": 295
        },
        "outputId": "71cf0266-9e37-4932-93f2-54accd503825"
      },
      "execution_count": 13,
      "outputs": [
        {
          "output_type": "display_data",
          "data": {
            "text/plain": [
              "<Figure size 432x288 with 1 Axes>"
            ],
            "image/png": "[encoded data removed]"
          },
          "metadata": {
            "needs_background": "light"
          }
        }
      ]
    },
    {
      "cell_type": "markdown",
      "source": [
        "**Plotting loss of model for training and validation sets** : It can be seen that the model's training loss is decreasing but validation loss is increasing which is not a good indicator "
      ],
      "metadata": {
        "id": "SHC3CaOtgxbU"
      }
    },
    {
      "cell_type": "code",
      "source": [
        "plt.plot(history.history['loss'])\n",
        "plt.plot(history.history['val_loss'])\n",
        "plt.title('model loss')\n",
        "plt.ylabel('loss')\n",
        "plt.xlabel('epoch')\n",
        "plt.legend(['train', 'val'], loc='upper left')\n",
        "plt.show()"
      ],
      "metadata": {
        "id": "oMO5rkvOQ-fN",
        "colab": {
          "base_uri": "https://localhost:8080/",
          "height": 295
        },
        "outputId": "cc827f16-7fc1-4a2a-c16a-411a5065fa5e"
      },
      "execution_count": 14,
      "outputs": [
        {
          "output_type": "display_data",
          "data": {
            "text/plain": [
              "<Figure size 432x288 with 1 Axes>"
            ],
            "image/png": "[encoded data removed]"
          },
          "metadata": {
            "needs_background": "light"
          }
        }
      ]
    },
    {
      "cell_type": "markdown",
      "source": [
        "**Data Augmentation using Image Generator**: As seen above, the model is overfitting. To reduce the validation loss, more samples can be introduced on which training can be run. For generating more samples, data augmentation is provided by Keras. "
      ],
      "metadata": {
        "id": "wvo718ShZ2za"
      }
    },
    {
      "cell_type": "code",
      "source": [
        "from keras.preprocessing.image import ImageDataGenerator\n",
        "from keras.callbacks import ReduceLROnPlateau\n",
        "\n",
        "datagen = ImageDataGenerator(\n",
        "        rotation_range=10, # rotation                                              #rotating the images\n",
        "        horizontal_flip=True # horizontal flip                                     #flipping the images \n",
        ")\n",
        "\n",
        "datagen.fit(x_train)"
      ],
      "metadata": {
        "id": "hE99lEOgu7fj"
      },
      "execution_count": 15,
      "outputs": []
    },
    {
      "cell_type": "code",
      "source": [
        "epochs = 10\n",
        "# Batch size\n",
        "batch_size = 20\n",
        "\n",
        "history = model.fit(datagen.flow(x_train,y_train,                                   #fitting on augmented training data\n",
        "                                       batch_size=batch_size, \n",
        "                                       seed=27,\n",
        "                                       shuffle=False),\n",
        "                    epochs=epochs,\n",
        "                    steps_per_epoch=x_train.shape[0] // batch_size,\n",
        "                    validation_data=(x_val,y_val),\n",
        "                    verbose=1)\n"
      ],
      "metadata": {
        "id": "g0d96wTvvF81",
        "colab": {
          "base_uri": "https://localhost:8080/"
        },
        "outputId": "bb504734-a031-472f-f390-17a53c05d30c"
      },
      "execution_count": 16,
      "outputs": [
        {
          "output_type": "stream",
          "name": "stdout",
          "text": [
            "Epoch 1/10\n",
            "8/8 [==============================] - 9s 949ms/step - loss: 3.6754 - accuracy: 0.3169 - val_loss: 5.7230 - val_accuracy: 0.0732\n",
            "Epoch 2/10\n",
            "8/8 [==============================] - 8s 844ms/step - loss: 3.4044 - accuracy: 0.3310 - val_loss: 8.0870 - val_accuracy: 0.2195\n",
            "Epoch 3/10\n",
            "8/8 [==============================] - 6s 736ms/step - loss: 2.6503 - accuracy: 0.4577 - val_loss: 8.8925 - val_accuracy: 0.2683\n",
            "Epoch 4/10\n",
            "8/8 [==============================] - 6s 744ms/step - loss: 1.8458 - accuracy: 0.5563 - val_loss: 9.9609 - val_accuracy: 0.3659\n",
            "Epoch 5/10\n",
            "8/8 [==============================] - 6s 732ms/step - loss: 1.5744 - accuracy: 0.6549 - val_loss: 10.1191 - val_accuracy: 0.3659\n",
            "Epoch 6/10\n",
            "8/8 [==============================] - 6s 778ms/step - loss: 1.1823 - accuracy: 0.7394 - val_loss: 10.3382 - val_accuracy: 0.4146\n",
            "Epoch 7/10\n",
            "8/8 [==============================] - 6s 727ms/step - loss: 0.7450 - accuracy: 0.8099 - val_loss: 8.7328 - val_accuracy: 0.3659\n",
            "Epoch 8/10\n",
            "8/8 [==============================] - 7s 809ms/step - loss: 1.0835 - accuracy: 0.7688 - val_loss: 9.3115 - val_accuracy: 0.3902\n",
            "Epoch 9/10\n",
            "8/8 [==============================] - 6s 738ms/step - loss: 0.3692 - accuracy: 0.9225 - val_loss: 9.4485 - val_accuracy: 0.3659\n",
            "Epoch 10/10\n",
            "8/8 [==============================] - 6s 715ms/step - loss: 0.7211 - accuracy: 0.8521 - val_loss: 10.2646 - val_accuracy: 0.3659\n"
          ]
        }
      ]
    },
    {
      "cell_type": "markdown",
      "source": [
        "**Plotting accuracy of model for training and validation sets** : It can be seen that the model is performing better on validation data now. The accuracy has improved."
      ],
      "metadata": {
        "id": "5GKb-nfdhpYS"
      }
    },
    {
      "cell_type": "code",
      "source": [
        "from matplotlib import pyplot as plt\n",
        "\n",
        "plt.plot(history.history['accuracy'])\n",
        "plt.plot(history.history['val_accuracy'])\n",
        "plt.title('model accuracy')\n",
        "plt.ylabel('accuracy')\n",
        "plt.xlabel('epoch')\n",
        "plt.legend(['train', 'val'], loc='upper left')\n",
        "plt.show()"
      ],
      "metadata": {
        "id": "5GGT19MKvarQ",
        "colab": {
          "base_uri": "https://localhost:8080/",
          "height": 295
        },
        "outputId": "276c7809-1ebc-4e54-e288-477e8bdde4e7"
      },
      "execution_count": 17,
      "outputs": [
        {
          "output_type": "display_data",
          "data": {
            "text/plain": [
              "<Figure size 432x288 with 1 Axes>"
            ],
            "image/png": "[encoded data removed]"
          },
          "metadata": {
            "needs_background": "light"
          }
        }
      ]
    },
    {
      "cell_type": "markdown",
      "source": [
        "**Plotting loss of model for training and validation sets** : It can be seen that the model is performing better on validation data now."
      ],
      "metadata": {
        "id": "zs_arsCMiH8c"
      }
    },
    {
      "cell_type": "code",
      "source": [
        "plt.plot(history.history['loss'])\n",
        "plt.plot(history.history['val_loss'])\n",
        "plt.title('model loss')\n",
        "plt.ylabel('loss')\n",
        "plt.xlabel('epoch')\n",
        "plt.legend(['train', 'val'], loc='upper left')\n",
        "plt.show()"
      ],
      "metadata": {
        "id": "iM2vtzHDiHXz",
        "colab": {
          "base_uri": "https://localhost:8080/",
          "height": 295
        },
        "outputId": "380bbab6-c67f-483f-9323-eb7d22148ad7"
      },
      "execution_count": 18,
      "outputs": [
        {
          "output_type": "display_data",
          "data": {
            "text/plain": [
              "<Figure size 432x288 with 1 Axes>"
            ],
            "image/png": "[encoded data removed]"
          },
          "metadata": {
            "needs_background": "light"
          }
        }
      ]
    },
    {
      "cell_type": "markdown",
      "source": [
        "Saving augmented data model to results_dir"
      ],
      "metadata": {
        "id": "B7SnW90PFwIZ"
      }
    },
    {
      "cell_type": "code",
      "source": [
        "model.save(results_dir+'model_predict_ID.h5')  # creates a HDF5 file "
      ],
      "metadata": {
        "id": "sOojQ9FOATb0"
      },
      "execution_count": 19,
      "outputs": []
    },
    {
      "cell_type": "markdown",
      "source": [
        "**Comparing validation data predicted IDs v/s actual IDs**"
      ],
      "metadata": {
        "id": "gG9QOePOi-Vq"
      }
    },
    {
      "cell_type": "code",
      "source": [
        "#Prediction on validation data\n",
        "y_pred_val= model.predict(x_val)\n",
        "y_pred_val = np.argmax(y_pred_val,axis = 1)\n",
        "print('Y_Pred validation IDs: ',y_pred_val)\n",
        "y_actual_val= y_val\n",
        "y_actual_val = np.argmax(y_val,axis = 1)\n",
        "print('Y_Actl validation IDs: ',y_actual_val)"
      ],
      "metadata": {
        "id": "jlFxKgeA6tTQ",
        "colab": {
          "base_uri": "https://localhost:8080/"
        },
        "outputId": "2e82dce6-abff-4764-d628-b21ac3f69626"
      },
      "execution_count": 20,
      "outputs": [
        {
          "output_type": "stream",
          "name": "stdout",
          "text": [
            "Y_Pred validation IDs:  [ 67 154 147 162 162  36  66 108 154 168 121 131  68 115 162  63 156  83\n",
            "  57 154  52 121 111  11 181 168 112 181  33 111  89  47  89 162  54   1\n",
            " 168 171 154  11 190]\n",
            "Y_Actl validation IDs:  [161  62 198 191 165  96  66 108  15  69 121 189  40  65  82  63 156  83\n",
            "  57 109  52 168  56  11  54 146 148 184  33 135  89  47  65 151  54   1\n",
            "  28 108 154 134 142]\n"
          ]
        }
      ]
    },
    {
      "cell_type": "code",
      "source": [
        "from sklearn.metrics import accuracy_score\n",
        "accuracy_score(y_actual_val, y_pred_val)                                          #accuracy score on validation data"
      ],
      "metadata": {
        "id": "MALixM3t9316",
        "colab": {
          "base_uri": "https://localhost:8080/"
        },
        "outputId": "a6bb9d11-3d5e-426d-e119-0565db1674bd"
      },
      "execution_count": 21,
      "outputs": [
        {
          "output_type": "execute_result",
          "data": {
            "text/plain": [
              "0.36585365853658536"
            ]
          },
          "metadata": {},
          "execution_count": 21
        }
      ]
    },
    {
      "cell_type": "code",
      "source": [
        "from sklearn.metrics import confusion_matrix\n",
        "import seaborn as sns\n",
        "\n",
        "cm=confusion_matrix(y_actual_val, y_pred_val)                                     #confusion matrix of validation data actual vs predicted"
      ],
      "metadata": {
        "id": "w5lJtI0h_bpC"
      },
      "execution_count": 22,
      "outputs": []
    },
    {
      "cell_type": "code",
      "source": [
        "plt.figure(figsize=(12,12))\n",
        "sns.heatmap(cm, annot=True)"
      ],
      "metadata": {
        "id": "B8pJpnqD7SCQ",
        "colab": {
          "base_uri": "https://localhost:8080/",
          "height": 724
        },
        "outputId": "83ccd9fb-9f14-4475-9e48-98f0455e2426"
      },
      "execution_count": 23,
      "outputs": [
        {
          "output_type": "execute_result",
          "data": {
            "text/plain": [
              "<matplotlib.axes._subplots.AxesSubplot at 0x7f1145a82210>"
            ]
          },
          "metadata": {},
          "execution_count": 23
        },
        {
          "output_type": "display_data",
          "data": {
            "text/plain": [
              "<Figure size 864x864 with 2 Axes>"
            ],
            "image/png": "[encoded data removed]"
          },
          "metadata": {
            "needs_background": "light"
          }
        }
      ]
    },
    {
      "cell_type": "markdown",
      "source": [
        "**Prediction on test images**: Firstly, the test set had to be generated from the test images provided. "
      ],
      "metadata": {
        "id": "RMBjm6pfAFqP"
      }
    },
    {
      "cell_type": "markdown",
      "source": [
        "**Separating test set card images**: To implement the approach used in task-1 for separating the card images, some pre-processing was required on test images. As the backgorund of images was green, firstly the images were converted to white backgorund by using rescale_intensity provided by skimage.exposure. After converting the images to white backgorund, the same approach as task-1 with gaussian blurring and binary thresholding was applied. Bounding boxes for the test cards were found and sliced from the test images. The test cards were also saved to results_dir."
      ],
      "metadata": {
        "id": "yjVOqwiOjvHW"
      }
    },
    {
      "cell_type": "code",
      "source": [
        "import skimage.exposure\n",
        "from google.colab.patches import cv2_imshow\n",
        "\n",
        "for img in glob.glob(data_dir+\"test*.jpeg\"):  \n",
        "  name = os.path.splitext(os.path.basename(img))[0]                             #getting the name of test image\n",
        "  img_br = cv2.imread(img)\n",
        "  \n",
        "  # convert to hsv\n",
        "  hsv = cv2.cvtColor(img_br,cv2.COLOR_BGR2HSV)                                  #converting image to HSV \n",
        "\n",
        "  # threshold using inRange\n",
        "  range1 = (20,80,80)\n",
        "  range2 = (90,255,255)\n",
        "  mask = cv2.inRange(hsv,range1,range2)                                          #thresholding image and cretaing mask\n",
        "  mask = 255 - mask\n",
        "\n",
        "  # antialias mask\n",
        "  mask = cv2.GaussianBlur(mask, (0,0), sigmaX=3, sigmaY=3, borderType = cv2.BORDER_DEFAULT)\n",
        "  mask = skimage.exposure.rescale_intensity(mask, in_range=(127.5,255), out_range=(0,255))\n",
        "\n",
        "  result = img_br.copy()\n",
        "  result[mask==0] = (255,255,255)                                                #assigning value white to bg pixels\n",
        "\n",
        "  gray = cv2.cvtColor(result, cv2.COLOR_BGR2GRAY)      \n",
        "  blurred= cv2.GaussianBlur(gray,(5,5),cv2.BORDER_DEFAULT)\n",
        "  thresh = 245\n",
        "  fm = cv2.threshold(blurred, thresh, 255, cv2.THRESH_BINARY_INV)[1]\n",
        "\n",
        "  fm=cv2.convertScaleAbs(fm)\n",
        "  cnt_mod,_ = cv2.findContours(fm, cv2.RETR_EXTERNAL, cv2.CHAIN_APPROX_SIMPLE)\n",
        "  contours=[]\n",
        "\n",
        "  for c in cnt_mod:\n",
        "    if cv2.contourArea(c)>20000:\n",
        "      contours.append(c)\n",
        "\n",
        "  contours_poly = [None]*len(contours)\n",
        "  boundRect = [None]*len(contours)\n",
        "\n",
        "  for i, c in enumerate(contours):\n",
        "    contours_poly[i] = cv2.approxPolyDP(c, 3, True)   \n",
        "    boundRect[i] = cv2.boundingRect(contours_poly[i])\n",
        "\n",
        "  idx=0\n",
        "\n",
        "  for i in range(len(contours)):\n",
        "    idx+=1\n",
        "    x,y,w,h = boundRect[i]                                                              #finding bounding rectangle \n",
        "    roi=img_br[y:y+h,x:x+w]                                                             #slicing image using x,y, height, width\n",
        "    re_im= cv2.resize(roi,resolution)\n",
        "    cv2.imwrite(results_dir+name+'_'+str(idx) +'.jpg', re_im)                           #saving card images to results_dir"
      ],
      "metadata": {
        "id": "UAIZLQBZjUPs"
      },
      "execution_count": 24,
      "outputs": []
    },
    {
      "cell_type": "code",
      "source": [
        "test_images=[]\n",
        "name_test=[]\n",
        "\n",
        "for img in glob.glob(results_dir+ \"test*.jpg\"):                                      #reading test images from results_dir\n",
        "\n",
        "    im= cv2.imread(img)\n",
        "    name_test.append(os.path.splitext(os.path.basename(img))[0])  \n",
        "    im= cv2.cvtColor(im,cv2.COLOR_BGR2RGB)\n",
        "    im= cv2.resize(im,resolution)    \n",
        "\n",
        "    test_images.append(im)\n",
        "    "
      ],
      "metadata": {
        "id": "BTxkrtgLY8PN"
      },
      "execution_count": 25,
      "outputs": []
    },
    {
      "cell_type": "code",
      "source": [
        "x_test= np.array(test_images).astype('float')/255.0                                 #normalized\n",
        "print('x_test shape is ', x_test.shape)"
      ],
      "metadata": {
        "id": "nxKBMQItz5_q",
        "colab": {
          "base_uri": "https://localhost:8080/"
        },
        "outputId": "b124b4e6-00f5-4f0c-e690-496d968553bc"
      },
      "execution_count": 26,
      "outputs": [
        {
          "output_type": "stream",
          "name": "stdout",
          "text": [
            "x_test shape is  (140, 256, 256, 3)\n"
          ]
        }
      ]
    },
    {
      "cell_type": "code",
      "source": [
        "y_pred_test= model.predict(x_test)                                                  #running predictions on test set"
      ],
      "metadata": {
        "id": "x6gW8gv75lXd"
      },
      "execution_count": 27,
      "outputs": []
    },
    {
      "cell_type": "code",
      "source": [
        "Y_pred_test = np.argmax(y_pred_test,axis = 1)\n"
      ],
      "metadata": {
        "id": "1A_PRQSoinBu"
      },
      "execution_count": 28,
      "outputs": []
    },
    {
      "cell_type": "code",
      "source": [
        "df_test= pd.DataFrame({'Test set file': name_test, 'Predicted ID': Y_pred_test}) "
      ],
      "metadata": {
        "id": "L07jZD1wNLPO"
      },
      "execution_count": 29,
      "outputs": []
    },
    {
      "cell_type": "code",
      "source": [
        "df_test.head()"
      ],
      "metadata": {
        "id": "mT-tuNkLO4O6",
        "colab": {
          "base_uri": "https://localhost:8080/",
          "height": 206
        },
        "outputId": "fadc5ac9-ff25-4a42-f25e-5de64e4ea573"
      },
      "execution_count": 30,
      "outputs": [
        {
          "output_type": "execute_result",
          "data": {
            "text/plain": [
              "  Test set file  Predicted ID\n",
              "0    test-001_1           112\n",
              "1    test-001_3            33\n",
              "2    test-001_5           162\n",
              "3    test-001_6           121\n",
              "4    test-001_2           168"
            ],
            "text/html": [
              "\n",
              "  <div id=\"df-f6c13931-863b-4f45-a58e-58b75dfbb72d\">\n",
              "    <div class=\"colab-df-container\">\n",
              "      <div>\n",
              "<style scoped>\n",
              "    .dataframe tbody tr th:only-of-type {\n",
              "        vertical-align: middle;\n",
              "    }\n",
              "\n",
              "    .dataframe tbody tr th {\n",
              "        vertical-align: top;\n",
              "    }\n",
              "\n",
              "    .dataframe thead th {\n",
              "        text-align: right;\n",
              "    }\n",
              "</style>\n",
              "<table border=\"1\" class=\"dataframe\">\n",
              "  <thead>\n",
              "    <tr style=\"text-align: right;\">\n",
              "      <th></th>\n",
              "      <th>Test set file</th>\n",
              "      <th>Predicted ID</th>\n",
              "    </tr>\n",
              "  </thead>\n",
              "  <tbody>\n",
              "    <tr>\n",
              "      <th>0</th>\n",
              "      <td>test-001_1</td>\n",
              "      <td>112</td>\n",
              "    </tr>\n",
              "    <tr>\n",
              "      <th>1</th>\n",
              "      <td>test-001_3</td>\n",
              "      <td>33</td>\n",
              "    </tr>\n",
              "    <tr>\n",
              "      <th>2</th>\n",
              "      <td>test-001_5</td>\n",
              "      <td>162</td>\n",
              "    </tr>\n",
              "    <tr>\n",
              "      <th>3</th>\n",
              "      <td>test-001_6</td>\n",
              "      <td>121</td>\n",
              "    </tr>\n",
              "    <tr>\n",
              "      <th>4</th>\n",
              "      <td>test-001_2</td>\n",
              "      <td>168</td>\n",
              "    </tr>\n",
              "  </tbody>\n",
              "</table>\n",
              "</div>\n",
              "      <button class=\"colab-df-convert\" onclick=\"convertToInteractive('df-f6c13931-863b-4f45-a58e-58b75dfbb72d')\"\n",
              "              title=\"Convert this dataframe to an interactive table.\"\n",
              "              style=\"display:none;\">\n",
              "        \n",
              "  <svg xmlns=\"http://www.w3.org/2000/svg\" height=\"24px\"viewBox=\"0 0 24 24\"\n",
              "       width=\"24px\">\n",
              "    <path d=\"M0 0h24v24H0V0z\" fill=\"none\"/>\n",
              "    <path d=\"M18.56 5.44l.94 2.06.94-2.06 2.06-.94-2.06-.94-.94-2.06-.94 2.06-2.06.94zm-11 1L8.5 8.5l.94-2.06 2.06-.94-2.06-.94L8.5 2.5l-.94 2.06-2.06.94zm10 10l.94 2.06.94-2.06 2.06-.94-2.06-.94-.94-2.06-.94 2.06-2.06.94z\"/><path d=\"M17.41 7.96l-1.37-1.37c-.4-.4-.92-.59-1.43-.59-.52 0-1.04.2-1.43.59L10.3 9.45l-7.72 7.72c-.78.78-.78 2.05 0 2.83L4 21.41c.39.39.9.59 1.41.59.51 0 1.02-.2 1.41-.59l7.78-7.78 2.81-2.81c.8-.78.8-2.07 0-2.86zM5.41 20L4 18.59l7.72-7.72 1.47 1.35L5.41 20z\"/>\n",
              "  </svg>\n",
              "      </button>\n",
              "      \n",
              "  <style>\n",
              "    .colab-df-container {\n",
              "      display:flex;\n",
              "      flex-wrap:wrap;\n",
              "      gap: 12px;\n",
              "    }\n",
              "\n",
              "    .colab-df-convert {\n",
              "      background-color: #E8F0FE;\n",
              "      border: none;\n",
              "      border-radius: 50%;\n",
              "      cursor: pointer;\n",
              "      display: none;\n",
              "      fill: #1967D2;\n",
              "      height: 32px;\n",
              "      padding: 0 0 0 0;\n",
              "      width: 32px;\n",
              "    }\n",
              "\n",
              "    .colab-df-convert:hover {\n",
              "      background-color: #E2EBFA;\n",
              "      box-shadow: 0px 1px 2px rgba(60, 64, 67, 0.3), 0px 1px 3px 1px rgba(60, 64, 67, 0.15);\n",
              "      fill: #174EA6;\n",
              "    }\n",
              "\n",
              "    [theme=dark] .colab-df-convert {\n",
              "      background-color: #3B4455;\n",
              "      fill: #D2E3FC;\n",
              "    }\n",
              "\n",
              "    [theme=dark] .colab-df-convert:hover {\n",
              "      background-color: #434B5C;\n",
              "      box-shadow: 0px 1px 3px 1px rgba(0, 0, 0, 0.15);\n",
              "      filter: drop-shadow(0px 1px 2px rgba(0, 0, 0, 0.3));\n",
              "      fill: #FFFFFF;\n",
              "    }\n",
              "  </style>\n",
              "\n",
              "      <script>\n",
              "        const buttonEl =\n",
              "          document.querySelector('#df-f6c13931-863b-4f45-a58e-58b75dfbb72d button.colab-df-convert');\n",
              "        buttonEl.style.display =\n",
              "          google.colab.kernel.accessAllowed ? 'block' : 'none';\n",
              "\n",
              "        async function convertToInteractive(key) {\n",
              "          const element = document.querySelector('#df-f6c13931-863b-4f45-a58e-58b75dfbb72d');\n",
              "          const dataTable =\n",
              "            await google.colab.kernel.invokeFunction('convertToInteractive',\n",
              "                                                     [key], {});\n",
              "          if (!dataTable) return;\n",
              "\n",
              "          const docLinkHtml = 'Like what you see? Visit the ' +\n",
              "            '<a target=\"_blank\" href=https://colab.research.google.com/notebooks/data_table.ipynb>data table notebook</a>'\n",
              "            + ' to learn more about interactive tables.';\n",
              "          element.innerHTML = '';\n",
              "          dataTable['output_type'] = 'display_data';\n",
              "          await google.colab.output.renderOutput(dataTable, element);\n",
              "          const docLink = document.createElement('div');\n",
              "          docLink.innerHTML = docLinkHtml;\n",
              "          element.appendChild(docLink);\n",
              "        }\n",
              "      </script>\n",
              "    </div>\n",
              "  </div>\n",
              "  "
            ]
          },
          "metadata": {},
          "execution_count": 30
        }
      ]
    },
    {
      "cell_type": "code",
      "source": [
        "df_test.to_csv(results_dir+'Test_im_pred_ID.csv')"
      ],
      "metadata": {
        "id": "4jDusg5dOBqS"
      },
      "execution_count": 31,
      "outputs": []
    },
    {
      "cell_type": "markdown",
      "source": [
        "**Running predictions on Card images from Train-001**"
      ],
      "metadata": {
        "id": "v9yUMW6pP34J"
      }
    },
    {
      "cell_type": "code",
      "source": [
        "train001_images=[]\n",
        "name_train001=[]\n",
        "\n",
        "for img in glob.glob(results_dir+ \"train-001*.jpg\"):                                      #reading test images from results_dir\n",
        "\n",
        "    im= cv2.imread(img)\n",
        "    name_train001.append(os.path.splitext(os.path.basename(img))[0])  \n",
        "    im= cv2.cvtColor(im,cv2.COLOR_BGR2RGB)\n",
        "    im= cv2.resize(im,resolution)    \n",
        "    train001_images.append(im)\n",
        "    "
      ],
      "metadata": {
        "id": "x2aNZtPbO1mm"
      },
      "execution_count": 32,
      "outputs": []
    },
    {
      "cell_type": "code",
      "source": [
        "x_train001= np.array(train001_images).astype('float')/255.0                                 #normalized\n",
        "print('x_train001 shape is ', x_train001.shape)"
      ],
      "metadata": {
        "id": "Ah3DbvmZPl4x",
        "colab": {
          "base_uri": "https://localhost:8080/"
        },
        "outputId": "98a9dd32-5023-4aa1-c6bf-8e80760123f0"
      },
      "execution_count": 33,
      "outputs": [
        {
          "output_type": "stream",
          "name": "stdout",
          "text": [
            "x_train001 shape is  (16, 256, 256, 3)\n"
          ]
        }
      ]
    },
    {
      "cell_type": "code",
      "source": [
        "y_pred_train001= model.predict(x_train001)         "
      ],
      "metadata": {
        "id": "xu-e_uNwPqKW"
      },
      "execution_count": 34,
      "outputs": []
    },
    {
      "cell_type": "code",
      "source": [
        "y_pred_train001 = np.argmax(y_pred_train001,axis = 1)\n",
        "y_pred_train001"
      ],
      "metadata": {
        "id": "H4H7JoiYP_8r",
        "colab": {
          "base_uri": "https://localhost:8080/"
        },
        "outputId": "d416c585-a066-40ad-9011-11f4c385b51b"
      },
      "execution_count": 35,
      "outputs": [
        {
          "output_type": "execute_result",
          "data": {
            "text/plain": [
              "array([181, 172, 138, 111, 120, 162, 114, 109, 154,  31,   2, 172, 198,\n",
              "       120, 154,  36])"
            ]
          },
          "metadata": {},
          "execution_count": 35
        }
      ]
    },
    {
      "cell_type": "code",
      "source": [
        "df_train001= pd.DataFrame({'Train set 001 images': name_train001, 'Predicted ID': y_pred_train001}) "
      ],
      "metadata": {
        "id": "DSWxn-wKUHGe"
      },
      "execution_count": 36,
      "outputs": []
    },
    {
      "cell_type": "code",
      "source": [
        "df_train001"
      ],
      "metadata": {
        "id": "8JJYdkQcVSYX",
        "colab": {
          "base_uri": "https://localhost:8080/",
          "height": 551
        },
        "outputId": "1f6df622-7151-498b-de34-1eee98f2749e"
      },
      "execution_count": 37,
      "outputs": [
        {
          "output_type": "execute_result",
          "data": {
            "text/plain": [
              "   Train set 001 images  Predicted ID\n",
              "0           train-001_2           181\n",
              "1           train-001_1           172\n",
              "2           train-001_3           138\n",
              "3           train-001_4           111\n",
              "4           train-001_6           120\n",
              "5           train-001_5           162\n",
              "6           train-001_7           114\n",
              "7           train-001_8           109\n",
              "8           train-001_9           154\n",
              "9          train-001_12            31\n",
              "10         train-001_11             2\n",
              "11         train-001_10           172\n",
              "12         train-001_13           198\n",
              "13         train-001_15           120\n",
              "14         train-001_14           154\n",
              "15         train-001_16            36"
            ],
            "text/html": [
              "\n",
              "  <div id=\"df-9e1dddd4-ea77-461d-9526-48bba420907c\">\n",
              "    <div class=\"colab-df-container\">\n",
              "      <div>\n",
              "<style scoped>\n",
              "    .dataframe tbody tr th:only-of-type {\n",
              "        vertical-align: middle;\n",
              "    }\n",
              "\n",
              "    .dataframe tbody tr th {\n",
              "        vertical-align: top;\n",
              "    }\n",
              "\n",
              "    .dataframe thead th {\n",
              "        text-align: right;\n",
              "    }\n",
              "</style>\n",
              "<table border=\"1\" class=\"dataframe\">\n",
              "  <thead>\n",
              "    <tr style=\"text-align: right;\">\n",
              "      <th></th>\n",
              "      <th>Train set 001 images</th>\n",
              "      <th>Predicted ID</th>\n",
              "    </tr>\n",
              "  </thead>\n",
              "  <tbody>\n",
              "    <tr>\n",
              "      <th>0</th>\n",
              "      <td>train-001_2</td>\n",
              "      <td>181</td>\n",
              "    </tr>\n",
              "    <tr>\n",
              "      <th>1</th>\n",
              "      <td>train-001_1</td>\n",
              "      <td>172</td>\n",
              "    </tr>\n",
              "    <tr>\n",
              "      <th>2</th>\n",
              "      <td>train-001_3</td>\n",
              "      <td>138</td>\n",
              "    </tr>\n",
              "    <tr>\n",
              "      <th>3</th>\n",
              "      <td>train-001_4</td>\n",
              "      <td>111</td>\n",
              "    </tr>\n",
              "    <tr>\n",
              "      <th>4</th>\n",
              "      <td>train-001_6</td>\n",
              "      <td>120</td>\n",
              "    </tr>\n",
              "    <tr>\n",
              "      <th>5</th>\n",
              "      <td>train-001_5</td>\n",
              "      <td>162</td>\n",
              "    </tr>\n",
              "    <tr>\n",
              "      <th>6</th>\n",
              "      <td>train-001_7</td>\n",
              "      <td>114</td>\n",
              "    </tr>\n",
              "    <tr>\n",
              "      <th>7</th>\n",
              "      <td>train-001_8</td>\n",
              "      <td>109</td>\n",
              "    </tr>\n",
              "    <tr>\n",
              "      <th>8</th>\n",
              "      <td>train-001_9</td>\n",
              "      <td>154</td>\n",
              "    </tr>\n",
              "    <tr>\n",
              "      <th>9</th>\n",
              "      <td>train-001_12</td>\n",
              "      <td>31</td>\n",
              "    </tr>\n",
              "    <tr>\n",
              "      <th>10</th>\n",
              "      <td>train-001_11</td>\n",
              "      <td>2</td>\n",
              "    </tr>\n",
              "    <tr>\n",
              "      <th>11</th>\n",
              "      <td>train-001_10</td>\n",
              "      <td>172</td>\n",
              "    </tr>\n",
              "    <tr>\n",
              "      <th>12</th>\n",
              "      <td>train-001_13</td>\n",
              "      <td>198</td>\n",
              "    </tr>\n",
              "    <tr>\n",
              "      <th>13</th>\n",
              "      <td>train-001_15</td>\n",
              "      <td>120</td>\n",
              "    </tr>\n",
              "    <tr>\n",
              "      <th>14</th>\n",
              "      <td>train-001_14</td>\n",
              "      <td>154</td>\n",
              "    </tr>\n",
              "    <tr>\n",
              "      <th>15</th>\n",
              "      <td>train-001_16</td>\n",
              "      <td>36</td>\n",
              "    </tr>\n",
              "  </tbody>\n",
              "</table>\n",
              "</div>\n",
              "      <button class=\"colab-df-convert\" onclick=\"convertToInteractive('df-9e1dddd4-ea77-461d-9526-48bba420907c')\"\n",
              "              title=\"Convert this dataframe to an interactive table.\"\n",
              "              style=\"display:none;\">\n",
              "        \n",
              "  <svg xmlns=\"http://www.w3.org/2000/svg\" height=\"24px\"viewBox=\"0 0 24 24\"\n",
              "       width=\"24px\">\n",
              "    <path d=\"M0 0h24v24H0V0z\" fill=\"none\"/>\n",
              "    <path d=\"M18.56 5.44l.94 2.06.94-2.06 2.06-.94-2.06-.94-.94-2.06-.94 2.06-2.06.94zm-11 1L8.5 8.5l.94-2.06 2.06-.94-2.06-.94L8.5 2.5l-.94 2.06-2.06.94zm10 10l.94 2.06.94-2.06 2.06-.94-2.06-.94-.94-2.06-.94 2.06-2.06.94z\"/><path d=\"M17.41 7.96l-1.37-1.37c-.4-.4-.92-.59-1.43-.59-.52 0-1.04.2-1.43.59L10.3 9.45l-7.72 7.72c-.78.78-.78 2.05 0 2.83L4 21.41c.39.39.9.59 1.41.59.51 0 1.02-.2 1.41-.59l7.78-7.78 2.81-2.81c.8-.78.8-2.07 0-2.86zM5.41 20L4 18.59l7.72-7.72 1.47 1.35L5.41 20z\"/>\n",
              "  </svg>\n",
              "      </button>\n",
              "      \n",
              "  <style>\n",
              "    .colab-df-container {\n",
              "      display:flex;\n",
              "      flex-wrap:wrap;\n",
              "      gap: 12px;\n",
              "    }\n",
              "\n",
              "    .colab-df-convert {\n",
              "      background-color: #E8F0FE;\n",
              "      border: none;\n",
              "      border-radius: 50%;\n",
              "      cursor: pointer;\n",
              "      display: none;\n",
              "      fill: #1967D2;\n",
              "      height: 32px;\n",
              "      padding: 0 0 0 0;\n",
              "      width: 32px;\n",
              "    }\n",
              "\n",
              "    .colab-df-convert:hover {\n",
              "      background-color: #E2EBFA;\n",
              "      box-shadow: 0px 1px 2px rgba(60, 64, 67, 0.3), 0px 1px 3px 1px rgba(60, 64, 67, 0.15);\n",
              "      fill: #174EA6;\n",
              "    }\n",
              "\n",
              "    [theme=dark] .colab-df-convert {\n",
              "      background-color: #3B4455;\n",
              "      fill: #D2E3FC;\n",
              "    }\n",
              "\n",
              "    [theme=dark] .colab-df-convert:hover {\n",
              "      background-color: #434B5C;\n",
              "      box-shadow: 0px 1px 3px 1px rgba(0, 0, 0, 0.15);\n",
              "      filter: drop-shadow(0px 1px 2px rgba(0, 0, 0, 0.3));\n",
              "      fill: #FFFFFF;\n",
              "    }\n",
              "  </style>\n",
              "\n",
              "      <script>\n",
              "        const buttonEl =\n",
              "          document.querySelector('#df-9e1dddd4-ea77-461d-9526-48bba420907c button.colab-df-convert');\n",
              "        buttonEl.style.display =\n",
              "          google.colab.kernel.accessAllowed ? 'block' : 'none';\n",
              "\n",
              "        async function convertToInteractive(key) {\n",
              "          const element = document.querySelector('#df-9e1dddd4-ea77-461d-9526-48bba420907c');\n",
              "          const dataTable =\n",
              "            await google.colab.kernel.invokeFunction('convertToInteractive',\n",
              "                                                     [key], {});\n",
              "          if (!dataTable) return;\n",
              "\n",
              "          const docLinkHtml = 'Like what you see? Visit the ' +\n",
              "            '<a target=\"_blank\" href=https://colab.research.google.com/notebooks/data_table.ipynb>data table notebook</a>'\n",
              "            + ' to learn more about interactive tables.';\n",
              "          element.innerHTML = '';\n",
              "          dataTable['output_type'] = 'display_data';\n",
              "          await google.colab.output.renderOutput(dataTable, element);\n",
              "          const docLink = document.createElement('div');\n",
              "          docLink.innerHTML = docLinkHtml;\n",
              "          element.appendChild(docLink);\n",
              "        }\n",
              "      </script>\n",
              "    </div>\n",
              "  </div>\n",
              "  "
            ]
          },
          "metadata": {},
          "execution_count": 37
        }
      ]
    }
  ],
  "metadata": {
    "colab": {
      "collapsed_sections": [],
      "provenance": [],
      "authorship_tag": "ABX9TyOf7vP8fnS0RQQAcpboHBZK",
      "include_colab_link": true
    },
    "kernelspec": {
      "display_name": "Python 3",
      "name": "python3"
    },
    "language_info": {
      "name": "python"
    }
  },
  "nbformat": 4,
  "nbformat_minor": 0
}